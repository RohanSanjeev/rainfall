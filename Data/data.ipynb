{
 "cells": [
  {
   "cell_type": "markdown",
   "source": [
    "Code to filter out NorthEast data from India data"
   ],
   "metadata": {
    "collapsed": false
   }
  },
  {
   "cell_type": "code",
   "execution_count": 1,
   "metadata": {
    "collapsed": true
   },
   "outputs": [],
   "source": [
    "import numpy as np\n",
    "import pandas as pd"
   ]
  },
  {
   "cell_type": "markdown",
   "source": [
    "Get 1156 locations and 435 locations"
   ],
   "metadata": {
    "collapsed": false
   }
  },
  {
   "cell_type": "code",
   "execution_count": 4,
   "outputs": [
    {
     "data": {
      "text/plain": "   Unnamed: 0      X      Y    1    2    3    4    5    6    7  ...  357  358  \\\n0        8476  93.00  22.00  0.0  0.0  0.0  0.0  0.0  0.0  0.0  ...  0.0  0.0   \n1        8609  92.50  22.25  0.0  0.0  0.0  0.0  0.0  0.0  0.0  ...  0.0  0.0   \n2        8610  92.75  22.25  0.0  0.0  0.0  0.0  0.0  0.0  0.0  ...  0.0  0.0   \n3        8611  93.00  22.25  0.0  0.0  0.0  0.0  0.0  0.0  0.0  ...  0.0  0.0   \n4        8744  92.50  22.50  0.0  0.0  0.0  0.0  0.0  0.0  0.0  ...  0.0  0.0   \n\n   359  360  361  362  363  364  365  Unnamed: 367  \n0  0.0  0.0  0.0  0.0  0.0  0.0  0.0           NaN  \n1  0.0  0.0  0.0  0.0  0.0  0.0  0.0           NaN  \n2  0.0  0.0  0.0  0.0  0.0  0.0  0.0           NaN  \n3  0.0  0.0  0.0  0.0  0.0  0.0  0.0           NaN  \n4  0.0  0.0  0.0  0.0  0.0  0.0  0.0           NaN  \n\n[5 rows x 369 columns]",
      "text/html": "<div>\n<style scoped>\n    .dataframe tbody tr th:only-of-type {\n        vertical-align: middle;\n    }\n\n    .dataframe tbody tr th {\n        vertical-align: top;\n    }\n\n    .dataframe thead th {\n        text-align: right;\n    }\n</style>\n<table border=\"1\" class=\"dataframe\">\n  <thead>\n    <tr style=\"text-align: right;\">\n      <th></th>\n      <th>Unnamed: 0</th>\n      <th>X</th>\n      <th>Y</th>\n      <th>1</th>\n      <th>2</th>\n      <th>3</th>\n      <th>4</th>\n      <th>5</th>\n      <th>6</th>\n      <th>7</th>\n      <th>...</th>\n      <th>357</th>\n      <th>358</th>\n      <th>359</th>\n      <th>360</th>\n      <th>361</th>\n      <th>362</th>\n      <th>363</th>\n      <th>364</th>\n      <th>365</th>\n      <th>Unnamed: 367</th>\n    </tr>\n  </thead>\n  <tbody>\n    <tr>\n      <th>0</th>\n      <td>8476</td>\n      <td>93.00</td>\n      <td>22.00</td>\n      <td>0.0</td>\n      <td>0.0</td>\n      <td>0.0</td>\n      <td>0.0</td>\n      <td>0.0</td>\n      <td>0.0</td>\n      <td>0.0</td>\n      <td>...</td>\n      <td>0.0</td>\n      <td>0.0</td>\n      <td>0.0</td>\n      <td>0.0</td>\n      <td>0.0</td>\n      <td>0.0</td>\n      <td>0.0</td>\n      <td>0.0</td>\n      <td>0.0</td>\n      <td>NaN</td>\n    </tr>\n    <tr>\n      <th>1</th>\n      <td>8609</td>\n      <td>92.50</td>\n      <td>22.25</td>\n      <td>0.0</td>\n      <td>0.0</td>\n      <td>0.0</td>\n      <td>0.0</td>\n      <td>0.0</td>\n      <td>0.0</td>\n      <td>0.0</td>\n      <td>...</td>\n      <td>0.0</td>\n      <td>0.0</td>\n      <td>0.0</td>\n      <td>0.0</td>\n      <td>0.0</td>\n      <td>0.0</td>\n      <td>0.0</td>\n      <td>0.0</td>\n      <td>0.0</td>\n      <td>NaN</td>\n    </tr>\n    <tr>\n      <th>2</th>\n      <td>8610</td>\n      <td>92.75</td>\n      <td>22.25</td>\n      <td>0.0</td>\n      <td>0.0</td>\n      <td>0.0</td>\n      <td>0.0</td>\n      <td>0.0</td>\n      <td>0.0</td>\n      <td>0.0</td>\n      <td>...</td>\n      <td>0.0</td>\n      <td>0.0</td>\n      <td>0.0</td>\n      <td>0.0</td>\n      <td>0.0</td>\n      <td>0.0</td>\n      <td>0.0</td>\n      <td>0.0</td>\n      <td>0.0</td>\n      <td>NaN</td>\n    </tr>\n    <tr>\n      <th>3</th>\n      <td>8611</td>\n      <td>93.00</td>\n      <td>22.25</td>\n      <td>0.0</td>\n      <td>0.0</td>\n      <td>0.0</td>\n      <td>0.0</td>\n      <td>0.0</td>\n      <td>0.0</td>\n      <td>0.0</td>\n      <td>...</td>\n      <td>0.0</td>\n      <td>0.0</td>\n      <td>0.0</td>\n      <td>0.0</td>\n      <td>0.0</td>\n      <td>0.0</td>\n      <td>0.0</td>\n      <td>0.0</td>\n      <td>0.0</td>\n      <td>NaN</td>\n    </tr>\n    <tr>\n      <th>4</th>\n      <td>8744</td>\n      <td>92.50</td>\n      <td>22.50</td>\n      <td>0.0</td>\n      <td>0.0</td>\n      <td>0.0</td>\n      <td>0.0</td>\n      <td>0.0</td>\n      <td>0.0</td>\n      <td>0.0</td>\n      <td>...</td>\n      <td>0.0</td>\n      <td>0.0</td>\n      <td>0.0</td>\n      <td>0.0</td>\n      <td>0.0</td>\n      <td>0.0</td>\n      <td>0.0</td>\n      <td>0.0</td>\n      <td>0.0</td>\n      <td>NaN</td>\n    </tr>\n  </tbody>\n</table>\n<p>5 rows × 369 columns</p>\n</div>"
     },
     "execution_count": 4,
     "metadata": {},
     "output_type": "execute_result"
    }
   ],
   "source": [
    "data = pd.read_csv(\"NE_csv/1950_rain.csv\")\n",
    "data.head()"
   ],
   "metadata": {
    "collapsed": false
   }
  },
  {
   "cell_type": "markdown",
   "source": [
    "X is East (longitude) , Y is north (latitudes)"
   ],
   "metadata": {
    "collapsed": false
   }
  },
  {
   "cell_type": "code",
   "execution_count": 5,
   "outputs": [
    {
     "data": {
      "text/plain": "   Unnamed: 0      X      Y    1    2    3    4    5    6    7  ...  357  358  \\\n0        8476  93.00  22.00  0.0  0.0  0.0  0.0  0.0  0.0  0.0  ...  0.0  0.0   \n1        8609  92.50  22.25  0.0  0.0  0.0  0.0  0.0  0.0  0.0  ...  0.0  0.0   \n2        8610  92.75  22.25  0.0  0.0  0.0  0.0  0.0  0.0  0.0  ...  0.0  0.0   \n3        8611  93.00  22.25  0.0  0.0  0.0  0.0  0.0  0.0  0.0  ...  0.0  0.0   \n4        8744  92.50  22.50  0.0  0.0  0.0  0.0  0.0  0.0  0.0  ...  0.0  0.0   \n\n   359  360  361  362  363  364  365  Unnamed: 367  \n0  0.0  0.0  0.0  0.0  0.0  0.0  0.0           NaN  \n1  0.0  0.0  0.0  0.0  0.0  0.0  0.0           NaN  \n2  0.0  0.0  0.0  0.0  0.0  0.0  0.0           NaN  \n3  0.0  0.0  0.0  0.0  0.0  0.0  0.0           NaN  \n4  0.0  0.0  0.0  0.0  0.0  0.0  0.0           NaN  \n\n[5 rows x 369 columns]",
      "text/html": "<div>\n<style scoped>\n    .dataframe tbody tr th:only-of-type {\n        vertical-align: middle;\n    }\n\n    .dataframe tbody tr th {\n        vertical-align: top;\n    }\n\n    .dataframe thead th {\n        text-align: right;\n    }\n</style>\n<table border=\"1\" class=\"dataframe\">\n  <thead>\n    <tr style=\"text-align: right;\">\n      <th></th>\n      <th>Unnamed: 0</th>\n      <th>X</th>\n      <th>Y</th>\n      <th>1</th>\n      <th>2</th>\n      <th>3</th>\n      <th>4</th>\n      <th>5</th>\n      <th>6</th>\n      <th>7</th>\n      <th>...</th>\n      <th>357</th>\n      <th>358</th>\n      <th>359</th>\n      <th>360</th>\n      <th>361</th>\n      <th>362</th>\n      <th>363</th>\n      <th>364</th>\n      <th>365</th>\n      <th>Unnamed: 367</th>\n    </tr>\n  </thead>\n  <tbody>\n    <tr>\n      <th>0</th>\n      <td>8476</td>\n      <td>93.00</td>\n      <td>22.00</td>\n      <td>0.0</td>\n      <td>0.0</td>\n      <td>0.0</td>\n      <td>0.0</td>\n      <td>0.0</td>\n      <td>0.0</td>\n      <td>0.0</td>\n      <td>...</td>\n      <td>0.0</td>\n      <td>0.0</td>\n      <td>0.0</td>\n      <td>0.0</td>\n      <td>0.0</td>\n      <td>0.0</td>\n      <td>0.0</td>\n      <td>0.0</td>\n      <td>0.0</td>\n      <td>NaN</td>\n    </tr>\n    <tr>\n      <th>1</th>\n      <td>8609</td>\n      <td>92.50</td>\n      <td>22.25</td>\n      <td>0.0</td>\n      <td>0.0</td>\n      <td>0.0</td>\n      <td>0.0</td>\n      <td>0.0</td>\n      <td>0.0</td>\n      <td>0.0</td>\n      <td>...</td>\n      <td>0.0</td>\n      <td>0.0</td>\n      <td>0.0</td>\n      <td>0.0</td>\n      <td>0.0</td>\n      <td>0.0</td>\n      <td>0.0</td>\n      <td>0.0</td>\n      <td>0.0</td>\n      <td>NaN</td>\n    </tr>\n    <tr>\n      <th>2</th>\n      <td>8610</td>\n      <td>92.75</td>\n      <td>22.25</td>\n      <td>0.0</td>\n      <td>0.0</td>\n      <td>0.0</td>\n      <td>0.0</td>\n      <td>0.0</td>\n      <td>0.0</td>\n      <td>0.0</td>\n      <td>...</td>\n      <td>0.0</td>\n      <td>0.0</td>\n      <td>0.0</td>\n      <td>0.0</td>\n      <td>0.0</td>\n      <td>0.0</td>\n      <td>0.0</td>\n      <td>0.0</td>\n      <td>0.0</td>\n      <td>NaN</td>\n    </tr>\n    <tr>\n      <th>3</th>\n      <td>8611</td>\n      <td>93.00</td>\n      <td>22.25</td>\n      <td>0.0</td>\n      <td>0.0</td>\n      <td>0.0</td>\n      <td>0.0</td>\n      <td>0.0</td>\n      <td>0.0</td>\n      <td>0.0</td>\n      <td>...</td>\n      <td>0.0</td>\n      <td>0.0</td>\n      <td>0.0</td>\n      <td>0.0</td>\n      <td>0.0</td>\n      <td>0.0</td>\n      <td>0.0</td>\n      <td>0.0</td>\n      <td>0.0</td>\n      <td>NaN</td>\n    </tr>\n    <tr>\n      <th>4</th>\n      <td>8744</td>\n      <td>92.50</td>\n      <td>22.50</td>\n      <td>0.0</td>\n      <td>0.0</td>\n      <td>0.0</td>\n      <td>0.0</td>\n      <td>0.0</td>\n      <td>0.0</td>\n      <td>0.0</td>\n      <td>...</td>\n      <td>0.0</td>\n      <td>0.0</td>\n      <td>0.0</td>\n      <td>0.0</td>\n      <td>0.0</td>\n      <td>0.0</td>\n      <td>0.0</td>\n      <td>0.0</td>\n      <td>0.0</td>\n      <td>NaN</td>\n    </tr>\n  </tbody>\n</table>\n<p>5 rows × 369 columns</p>\n</div>"
     },
     "execution_count": 5,
     "metadata": {},
     "output_type": "execute_result"
    }
   ],
   "source": [
    "location_data = data[data[\"X\"] >= 89.75][data[\"Y\"] >= 21.75][data[\"X\"] <= 98][data[\"Y\"] <= 30]\n",
    "location_data.head()"
   ],
   "metadata": {
    "collapsed": false
   }
  },
  {
   "cell_type": "code",
   "execution_count": 6,
   "outputs": [
    {
     "data": {
      "text/plain": "(435, 369)"
     },
     "execution_count": 6,
     "metadata": {},
     "output_type": "execute_result"
    }
   ],
   "source": [
    "location_data.shape"
   ],
   "metadata": {
    "collapsed": false
   }
  },
  {
   "cell_type": "code",
   "execution_count": 7,
   "outputs": [
    {
     "data": {
      "text/plain": "   latitude  longitude\n0     22.00      93.00\n1     22.25      92.50\n2     22.25      92.75\n3     22.25      93.00\n4     22.50      92.50",
      "text/html": "<div>\n<style scoped>\n    .dataframe tbody tr th:only-of-type {\n        vertical-align: middle;\n    }\n\n    .dataframe tbody tr th {\n        vertical-align: top;\n    }\n\n    .dataframe thead th {\n        text-align: right;\n    }\n</style>\n<table border=\"1\" class=\"dataframe\">\n  <thead>\n    <tr style=\"text-align: right;\">\n      <th></th>\n      <th>latitude</th>\n      <th>longitude</th>\n    </tr>\n  </thead>\n  <tbody>\n    <tr>\n      <th>0</th>\n      <td>22.00</td>\n      <td>93.00</td>\n    </tr>\n    <tr>\n      <th>1</th>\n      <td>22.25</td>\n      <td>92.50</td>\n    </tr>\n    <tr>\n      <th>2</th>\n      <td>22.25</td>\n      <td>92.75</td>\n    </tr>\n    <tr>\n      <th>3</th>\n      <td>22.25</td>\n      <td>93.00</td>\n    </tr>\n    <tr>\n      <th>4</th>\n      <td>22.50</td>\n      <td>92.50</td>\n    </tr>\n  </tbody>\n</table>\n</div>"
     },
     "execution_count": 7,
     "metadata": {},
     "output_type": "execute_result"
    }
   ],
   "source": [
    "NE_lat_long = pd.DataFrame(columns=[\"latitude\", \"longitude\"])\n",
    "NE_lat_long[\"latitude\"] = location_data[\"Y\"]\n",
    "NE_lat_long[\"longitude\"] = location_data[\"X\"]\n",
    "NE_lat_long.head()"
   ],
   "metadata": {
    "collapsed": false
   }
  },
  {
   "cell_type": "code",
   "execution_count": 8,
   "outputs": [],
   "source": [
    "# NE_lat_long.to_csv(\"NE_lat_long.csv\")"
   ],
   "metadata": {
    "collapsed": false
   }
  },
  {
   "cell_type": "code",
   "execution_count": 9,
   "outputs": [
    {
     "data": {
      "text/plain": "   Unnamed: 0      X      Y    1    2    3    4    5    6    7  ...  357  358  \\\n0        8476  93.00  22.00  0.0  0.0  0.0  0.0  0.0  0.0  0.0  ...  0.0  0.0   \n1        8609  92.50  22.25  0.0  0.0  0.0  0.0  0.0  0.0  0.0  ...  0.0  0.0   \n2        8610  92.75  22.25  0.0  0.0  0.0  0.0  0.0  0.0  0.0  ...  0.0  0.0   \n3        8611  93.00  22.25  0.0  0.0  0.0  0.0  0.0  0.0  0.0  ...  0.0  0.0   \n4        8744  92.50  22.50  0.0  0.0  0.0  0.0  0.0  0.0  0.0  ...  0.0  0.0   \n\n   359  360  361  362  363  364  365  Unnamed: 367  \n0  0.0  0.0  0.0  0.0  0.0  0.0  0.0           NaN  \n1  0.0  0.0  0.0  0.0  0.0  0.0  0.0           NaN  \n2  0.0  0.0  0.0  0.0  0.0  0.0  0.0           NaN  \n3  0.0  0.0  0.0  0.0  0.0  0.0  0.0           NaN  \n4  0.0  0.0  0.0  0.0  0.0  0.0  0.0           NaN  \n\n[5 rows x 369 columns]",
      "text/html": "<div>\n<style scoped>\n    .dataframe tbody tr th:only-of-type {\n        vertical-align: middle;\n    }\n\n    .dataframe tbody tr th {\n        vertical-align: top;\n    }\n\n    .dataframe thead th {\n        text-align: right;\n    }\n</style>\n<table border=\"1\" class=\"dataframe\">\n  <thead>\n    <tr style=\"text-align: right;\">\n      <th></th>\n      <th>Unnamed: 0</th>\n      <th>X</th>\n      <th>Y</th>\n      <th>1</th>\n      <th>2</th>\n      <th>3</th>\n      <th>4</th>\n      <th>5</th>\n      <th>6</th>\n      <th>7</th>\n      <th>...</th>\n      <th>357</th>\n      <th>358</th>\n      <th>359</th>\n      <th>360</th>\n      <th>361</th>\n      <th>362</th>\n      <th>363</th>\n      <th>364</th>\n      <th>365</th>\n      <th>Unnamed: 367</th>\n    </tr>\n  </thead>\n  <tbody>\n    <tr>\n      <th>0</th>\n      <td>8476</td>\n      <td>93.00</td>\n      <td>22.00</td>\n      <td>0.0</td>\n      <td>0.0</td>\n      <td>0.0</td>\n      <td>0.0</td>\n      <td>0.0</td>\n      <td>0.0</td>\n      <td>0.0</td>\n      <td>...</td>\n      <td>0.0</td>\n      <td>0.0</td>\n      <td>0.0</td>\n      <td>0.0</td>\n      <td>0.0</td>\n      <td>0.0</td>\n      <td>0.0</td>\n      <td>0.0</td>\n      <td>0.0</td>\n      <td>NaN</td>\n    </tr>\n    <tr>\n      <th>1</th>\n      <td>8609</td>\n      <td>92.50</td>\n      <td>22.25</td>\n      <td>0.0</td>\n      <td>0.0</td>\n      <td>0.0</td>\n      <td>0.0</td>\n      <td>0.0</td>\n      <td>0.0</td>\n      <td>0.0</td>\n      <td>...</td>\n      <td>0.0</td>\n      <td>0.0</td>\n      <td>0.0</td>\n      <td>0.0</td>\n      <td>0.0</td>\n      <td>0.0</td>\n      <td>0.0</td>\n      <td>0.0</td>\n      <td>0.0</td>\n      <td>NaN</td>\n    </tr>\n    <tr>\n      <th>2</th>\n      <td>8610</td>\n      <td>92.75</td>\n      <td>22.25</td>\n      <td>0.0</td>\n      <td>0.0</td>\n      <td>0.0</td>\n      <td>0.0</td>\n      <td>0.0</td>\n      <td>0.0</td>\n      <td>0.0</td>\n      <td>...</td>\n      <td>0.0</td>\n      <td>0.0</td>\n      <td>0.0</td>\n      <td>0.0</td>\n      <td>0.0</td>\n      <td>0.0</td>\n      <td>0.0</td>\n      <td>0.0</td>\n      <td>0.0</td>\n      <td>NaN</td>\n    </tr>\n    <tr>\n      <th>3</th>\n      <td>8611</td>\n      <td>93.00</td>\n      <td>22.25</td>\n      <td>0.0</td>\n      <td>0.0</td>\n      <td>0.0</td>\n      <td>0.0</td>\n      <td>0.0</td>\n      <td>0.0</td>\n      <td>0.0</td>\n      <td>...</td>\n      <td>0.0</td>\n      <td>0.0</td>\n      <td>0.0</td>\n      <td>0.0</td>\n      <td>0.0</td>\n      <td>0.0</td>\n      <td>0.0</td>\n      <td>0.0</td>\n      <td>0.0</td>\n      <td>NaN</td>\n    </tr>\n    <tr>\n      <th>4</th>\n      <td>8744</td>\n      <td>92.50</td>\n      <td>22.50</td>\n      <td>0.0</td>\n      <td>0.0</td>\n      <td>0.0</td>\n      <td>0.0</td>\n      <td>0.0</td>\n      <td>0.0</td>\n      <td>0.0</td>\n      <td>...</td>\n      <td>0.0</td>\n      <td>0.0</td>\n      <td>0.0</td>\n      <td>0.0</td>\n      <td>0.0</td>\n      <td>0.0</td>\n      <td>0.0</td>\n      <td>0.0</td>\n      <td>0.0</td>\n      <td>NaN</td>\n    </tr>\n  </tbody>\n</table>\n<p>5 rows × 369 columns</p>\n</div>"
     },
     "execution_count": 9,
     "metadata": {},
     "output_type": "execute_result"
    }
   ],
   "source": [
    "av = location_data[location_data[\"1\"] != -9999.0]\n",
    "av.head()"
   ],
   "metadata": {
    "collapsed": false
   }
  },
  {
   "cell_type": "code",
   "execution_count": 10,
   "outputs": [
    {
     "data": {
      "text/plain": "   latitude  longitude\n0     22.00      93.00\n1     22.25      92.50\n2     22.25      92.75\n3     22.25      93.00\n4     22.50      92.50",
      "text/html": "<div>\n<style scoped>\n    .dataframe tbody tr th:only-of-type {\n        vertical-align: middle;\n    }\n\n    .dataframe tbody tr th {\n        vertical-align: top;\n    }\n\n    .dataframe thead th {\n        text-align: right;\n    }\n</style>\n<table border=\"1\" class=\"dataframe\">\n  <thead>\n    <tr style=\"text-align: right;\">\n      <th></th>\n      <th>latitude</th>\n      <th>longitude</th>\n    </tr>\n  </thead>\n  <tbody>\n    <tr>\n      <th>0</th>\n      <td>22.00</td>\n      <td>93.00</td>\n    </tr>\n    <tr>\n      <th>1</th>\n      <td>22.25</td>\n      <td>92.50</td>\n    </tr>\n    <tr>\n      <th>2</th>\n      <td>22.25</td>\n      <td>92.75</td>\n    </tr>\n    <tr>\n      <th>3</th>\n      <td>22.25</td>\n      <td>93.00</td>\n    </tr>\n    <tr>\n      <th>4</th>\n      <td>22.50</td>\n      <td>92.50</td>\n    </tr>\n  </tbody>\n</table>\n</div>"
     },
     "execution_count": 10,
     "metadata": {},
     "output_type": "execute_result"
    }
   ],
   "source": [
    "NE_available = pd.DataFrame(columns=[\"latitude\", \"longitude\"])\n",
    "NE_available[\"latitude\"] = av[\"Y\"]\n",
    "NE_available[\"longitude\"] = av[\"X\"]\n",
    "NE_available.head()"
   ],
   "metadata": {
    "collapsed": false
   }
  },
  {
   "cell_type": "code",
   "execution_count": 11,
   "outputs": [],
   "source": [
    "# NE_available.to_csv(\"NE_available.csv\")"
   ],
   "metadata": {
    "collapsed": false
   }
  },
  {
   "cell_type": "code",
   "execution_count": 12,
   "outputs": [],
   "source": [
    "# for i in range(1,366):\n",
    "    # print(location_data[location_data[f\"{i}\"] != -9999.0].shape)"
   ],
   "metadata": {
    "collapsed": false
   }
  },
  {
   "cell_type": "code",
   "execution_count": 15,
   "outputs": [
    {
     "data": {
      "text/plain": "['../data/raw_csv/rain_csv1901_rain.csv',\n '../data/raw_csv/rain_csv1902_rain.csv',\n '../data/raw_csv/rain_csv1903_rain.csv',\n '../data/raw_csv/rain_csv1904_rain.csv',\n '../data/raw_csv/rain_csv1905_rain.csv',\n '../data/raw_csv/rain_csv1906_rain.csv',\n '../data/raw_csv/rain_csv1907_rain.csv',\n '../data/raw_csv/rain_csv1908_rain.csv',\n '../data/raw_csv/rain_csv1909_rain.csv',\n '../data/raw_csv/rain_csv1910_rain.csv',\n '../data/raw_csv/rain_csv1911_rain.csv',\n '../data/raw_csv/rain_csv1912_rain.csv',\n '../data/raw_csv/rain_csv1913_rain.csv',\n '../data/raw_csv/rain_csv1914_rain.csv',\n '../data/raw_csv/rain_csv1915_rain.csv',\n '../data/raw_csv/rain_csv1916_rain.csv',\n '../data/raw_csv/rain_csv1917_rain.csv',\n '../data/raw_csv/rain_csv1918_rain.csv',\n '../data/raw_csv/rain_csv1919_rain.csv',\n '../data/raw_csv/rain_csv1920_rain.csv',\n '../data/raw_csv/rain_csv1921_rain.csv',\n '../data/raw_csv/rain_csv1922_rain.csv',\n '../data/raw_csv/rain_csv1923_rain.csv',\n '../data/raw_csv/rain_csv1924_rain.csv',\n '../data/raw_csv/rain_csv1925_rain.csv',\n '../data/raw_csv/rain_csv1926_rain.csv',\n '../data/raw_csv/rain_csv1927_rain.csv',\n '../data/raw_csv/rain_csv1928_rain.csv',\n '../data/raw_csv/rain_csv1929_rain.csv',\n '../data/raw_csv/rain_csv1930_rain.csv',\n '../data/raw_csv/rain_csv1931_rain.csv',\n '../data/raw_csv/rain_csv1932_rain.csv',\n '../data/raw_csv/rain_csv1933_rain.csv',\n '../data/raw_csv/rain_csv1934_rain.csv',\n '../data/raw_csv/rain_csv1935_rain.csv',\n '../data/raw_csv/rain_csv1936_rain.csv',\n '../data/raw_csv/rain_csv1937_rain.csv',\n '../data/raw_csv/rain_csv1938_rain.csv',\n '../data/raw_csv/rain_csv1939_rain.csv',\n '../data/raw_csv/rain_csv1940_rain.csv',\n '../data/raw_csv/rain_csv1941_rain.csv',\n '../data/raw_csv/rain_csv1942_rain.csv',\n '../data/raw_csv/rain_csv1943_rain.csv',\n '../data/raw_csv/rain_csv1944_rain.csv',\n '../data/raw_csv/rain_csv1945_rain.csv',\n '../data/raw_csv/rain_csv1946_rain.csv',\n '../data/raw_csv/rain_csv1947_rain.csv',\n '../data/raw_csv/rain_csv1948_rain.csv',\n '../data/raw_csv/rain_csv1949_rain.csv',\n '../data/raw_csv/rain_csv1950_rain.csv',\n '../data/raw_csv/rain_csv1951_rain.csv',\n '../data/raw_csv/rain_csv1952_rain.csv',\n '../data/raw_csv/rain_csv1953_rain.csv',\n '../data/raw_csv/rain_csv1954_rain.csv',\n '../data/raw_csv/rain_csv1955_rain.csv',\n '../data/raw_csv/rain_csv1956_rain.csv',\n '../data/raw_csv/rain_csv1957_rain.csv',\n '../data/raw_csv/rain_csv1958_rain.csv',\n '../data/raw_csv/rain_csv1959_rain.csv',\n '../data/raw_csv/rain_csv1960_rain.csv',\n '../data/raw_csv/rain_csv1961_rain.csv',\n '../data/raw_csv/rain_csv1962_rain.csv',\n '../data/raw_csv/rain_csv1963_rain.csv',\n '../data/raw_csv/rain_csv1964_rain.csv',\n '../data/raw_csv/rain_csv1965_rain.csv',\n '../data/raw_csv/rain_csv1966_rain.csv',\n '../data/raw_csv/rain_csv1967_rain.csv',\n '../data/raw_csv/rain_csv1968_rain.csv',\n '../data/raw_csv/rain_csv1969_rain.csv',\n '../data/raw_csv/rain_csv1970_rain.csv',\n '../data/raw_csv/rain_csv1971_rain.csv',\n '../data/raw_csv/rain_csv1972_rain.csv',\n '../data/raw_csv/rain_csv1973_rain.csv',\n '../data/raw_csv/rain_csv1974_rain.csv',\n '../data/raw_csv/rain_csv1975_rain.csv',\n '../data/raw_csv/rain_csv1976_rain.csv',\n '../data/raw_csv/rain_csv1977_rain.csv',\n '../data/raw_csv/rain_csv1978_rain.csv',\n '../data/raw_csv/rain_csv1979_rain.csv',\n '../data/raw_csv/rain_csv1980_rain.csv',\n '../data/raw_csv/rain_csv1981_rain.csv',\n '../data/raw_csv/rain_csv1982_rain.csv',\n '../data/raw_csv/rain_csv1983_rain.csv',\n '../data/raw_csv/rain_csv1984_rain.csv',\n '../data/raw_csv/rain_csv1985_rain.csv',\n '../data/raw_csv/rain_csv1986_rain.csv',\n '../data/raw_csv/rain_csv1987_rain.csv',\n '../data/raw_csv/rain_csv1988_rain.csv',\n '../data/raw_csv/rain_csv1989_rain.csv',\n '../data/raw_csv/rain_csv1990_rain.csv',\n '../data/raw_csv/rain_csv1991_rain.csv',\n '../data/raw_csv/rain_csv1992_rain.csv',\n '../data/raw_csv/rain_csv1993_rain.csv',\n '../data/raw_csv/rain_csv1994_rain.csv',\n '../data/raw_csv/rain_csv1995_rain.csv',\n '../data/raw_csv/rain_csv1996_rain.csv',\n '../data/raw_csv/rain_csv1997_rain.csv',\n '../data/raw_csv/rain_csv1998_rain.csv',\n '../data/raw_csv/rain_csv1999_rain.csv',\n '../data/raw_csv/rain_csv2000_rain.csv',\n '../data/raw_csv/rain_csv2001_rain.csv',\n '../data/raw_csv/rain_csv2002_rain.csv',\n '../data/raw_csv/rain_csv2003_rain.csv',\n '../data/raw_csv/rain_csv2004_rain.csv',\n '../data/raw_csv/rain_csv2005_rain.csv',\n '../data/raw_csv/rain_csv2006_rain.csv',\n '../data/raw_csv/rain_csv2007_rain.csv',\n '../data/raw_csv/rain_csv2008_rain.csv',\n '../data/raw_csv/rain_csv2009_rain.csv',\n '../data/raw_csv/rain_csv2010_rain.csv',\n '../data/raw_csv/rain_csv2011_rain.csv',\n '../data/raw_csv/rain_csv2012_rain.csv',\n '../data/raw_csv/rain_csv2013_rain.csv',\n '../data/raw_csv/rain_csv2014_rain.csv',\n '../data/raw_csv/rain_csv2015_rain.csv',\n '../data/raw_csv/rain_csv2016_rain.csv',\n '../data/raw_csv/rain_csv2017_rain.csv',\n '../data/raw_csv/rain_csv2018_rain.csv']"
     },
     "execution_count": 15,
     "metadata": {},
     "output_type": "execute_result"
    }
   ],
   "source": [
    "import glob\n",
    "\n",
    "files = glob.glob(\"../data/raw_csv/*\")\n",
    "files"
   ],
   "metadata": {
    "collapsed": false
   }
  },
  {
   "cell_type": "code",
   "execution_count": 26,
   "outputs": [
    {
     "data": {
      "text/plain": "'1904'"
     },
     "execution_count": 26,
     "metadata": {},
     "output_type": "execute_result"
    }
   ],
   "source": [
    "files[3][24:28]"
   ],
   "metadata": {
    "collapsed": false
   }
  },
  {
   "cell_type": "code",
   "execution_count": 27,
   "outputs": [
    {
     "name": "stdout",
     "output_type": "stream",
     "text": [
      "reading ../data/raw_csv/rain_csv1901_rain.csv\n"
     ]
    },
    {
     "name": "stderr",
     "output_type": "stream",
     "text": [
      "/tmp/ipykernel_288/1601403735.py:5: UserWarning: Boolean Series key will be reindexed to match DataFrame index.\n",
      "  location_data = data[data[\"X\"] >= 89.75][data[\"Y\"] >= 21.75][data[\"X\"] <= 98][data[\"Y\"] <= 30]\n"
     ]
    },
    {
     "name": "stdout",
     "output_type": "stream",
     "text": [
      "saved 1901_rain.csv\n",
      "reading ../data/raw_csv/rain_csv1902_rain.csv\n"
     ]
    },
    {
     "name": "stderr",
     "output_type": "stream",
     "text": [
      "/tmp/ipykernel_288/1601403735.py:5: UserWarning: Boolean Series key will be reindexed to match DataFrame index.\n",
      "  location_data = data[data[\"X\"] >= 89.75][data[\"Y\"] >= 21.75][data[\"X\"] <= 98][data[\"Y\"] <= 30]\n"
     ]
    },
    {
     "name": "stdout",
     "output_type": "stream",
     "text": [
      "saved 1902_rain.csv\n",
      "reading ../data/raw_csv/rain_csv1903_rain.csv\n"
     ]
    },
    {
     "name": "stderr",
     "output_type": "stream",
     "text": [
      "/tmp/ipykernel_288/1601403735.py:5: UserWarning: Boolean Series key will be reindexed to match DataFrame index.\n",
      "  location_data = data[data[\"X\"] >= 89.75][data[\"Y\"] >= 21.75][data[\"X\"] <= 98][data[\"Y\"] <= 30]\n"
     ]
    },
    {
     "name": "stdout",
     "output_type": "stream",
     "text": [
      "saved 1903_rain.csv\n",
      "reading ../data/raw_csv/rain_csv1904_rain.csv\n"
     ]
    },
    {
     "name": "stderr",
     "output_type": "stream",
     "text": [
      "/tmp/ipykernel_288/1601403735.py:5: UserWarning: Boolean Series key will be reindexed to match DataFrame index.\n",
      "  location_data = data[data[\"X\"] >= 89.75][data[\"Y\"] >= 21.75][data[\"X\"] <= 98][data[\"Y\"] <= 30]\n"
     ]
    },
    {
     "name": "stdout",
     "output_type": "stream",
     "text": [
      "saved 1904_rain.csv\n",
      "reading ../data/raw_csv/rain_csv1905_rain.csv\n"
     ]
    },
    {
     "name": "stderr",
     "output_type": "stream",
     "text": [
      "/tmp/ipykernel_288/1601403735.py:5: UserWarning: Boolean Series key will be reindexed to match DataFrame index.\n",
      "  location_data = data[data[\"X\"] >= 89.75][data[\"Y\"] >= 21.75][data[\"X\"] <= 98][data[\"Y\"] <= 30]\n"
     ]
    },
    {
     "name": "stdout",
     "output_type": "stream",
     "text": [
      "saved 1905_rain.csv\n",
      "reading ../data/raw_csv/rain_csv1906_rain.csv\n"
     ]
    },
    {
     "name": "stderr",
     "output_type": "stream",
     "text": [
      "/tmp/ipykernel_288/1601403735.py:5: UserWarning: Boolean Series key will be reindexed to match DataFrame index.\n",
      "  location_data = data[data[\"X\"] >= 89.75][data[\"Y\"] >= 21.75][data[\"X\"] <= 98][data[\"Y\"] <= 30]\n"
     ]
    },
    {
     "name": "stdout",
     "output_type": "stream",
     "text": [
      "saved 1906_rain.csv\n",
      "reading ../data/raw_csv/rain_csv1907_rain.csv\n"
     ]
    },
    {
     "name": "stderr",
     "output_type": "stream",
     "text": [
      "/tmp/ipykernel_288/1601403735.py:5: UserWarning: Boolean Series key will be reindexed to match DataFrame index.\n",
      "  location_data = data[data[\"X\"] >= 89.75][data[\"Y\"] >= 21.75][data[\"X\"] <= 98][data[\"Y\"] <= 30]\n"
     ]
    },
    {
     "name": "stdout",
     "output_type": "stream",
     "text": [
      "saved 1907_rain.csv\n",
      "reading ../data/raw_csv/rain_csv1908_rain.csv\n"
     ]
    },
    {
     "name": "stderr",
     "output_type": "stream",
     "text": [
      "/tmp/ipykernel_288/1601403735.py:5: UserWarning: Boolean Series key will be reindexed to match DataFrame index.\n",
      "  location_data = data[data[\"X\"] >= 89.75][data[\"Y\"] >= 21.75][data[\"X\"] <= 98][data[\"Y\"] <= 30]\n"
     ]
    },
    {
     "name": "stdout",
     "output_type": "stream",
     "text": [
      "saved 1908_rain.csv\n",
      "reading ../data/raw_csv/rain_csv1909_rain.csv\n"
     ]
    },
    {
     "name": "stderr",
     "output_type": "stream",
     "text": [
      "/tmp/ipykernel_288/1601403735.py:5: UserWarning: Boolean Series key will be reindexed to match DataFrame index.\n",
      "  location_data = data[data[\"X\"] >= 89.75][data[\"Y\"] >= 21.75][data[\"X\"] <= 98][data[\"Y\"] <= 30]\n"
     ]
    },
    {
     "name": "stdout",
     "output_type": "stream",
     "text": [
      "saved 1909_rain.csv\n",
      "reading ../data/raw_csv/rain_csv1910_rain.csv\n"
     ]
    },
    {
     "name": "stderr",
     "output_type": "stream",
     "text": [
      "/tmp/ipykernel_288/1601403735.py:5: UserWarning: Boolean Series key will be reindexed to match DataFrame index.\n",
      "  location_data = data[data[\"X\"] >= 89.75][data[\"Y\"] >= 21.75][data[\"X\"] <= 98][data[\"Y\"] <= 30]\n"
     ]
    },
    {
     "name": "stdout",
     "output_type": "stream",
     "text": [
      "saved 1910_rain.csv\n",
      "reading ../data/raw_csv/rain_csv1911_rain.csv\n"
     ]
    },
    {
     "name": "stderr",
     "output_type": "stream",
     "text": [
      "/tmp/ipykernel_288/1601403735.py:5: UserWarning: Boolean Series key will be reindexed to match DataFrame index.\n",
      "  location_data = data[data[\"X\"] >= 89.75][data[\"Y\"] >= 21.75][data[\"X\"] <= 98][data[\"Y\"] <= 30]\n"
     ]
    },
    {
     "name": "stdout",
     "output_type": "stream",
     "text": [
      "saved 1911_rain.csv\n",
      "reading ../data/raw_csv/rain_csv1912_rain.csv\n"
     ]
    },
    {
     "name": "stderr",
     "output_type": "stream",
     "text": [
      "/tmp/ipykernel_288/1601403735.py:5: UserWarning: Boolean Series key will be reindexed to match DataFrame index.\n",
      "  location_data = data[data[\"X\"] >= 89.75][data[\"Y\"] >= 21.75][data[\"X\"] <= 98][data[\"Y\"] <= 30]\n"
     ]
    },
    {
     "name": "stdout",
     "output_type": "stream",
     "text": [
      "saved 1912_rain.csv\n",
      "reading ../data/raw_csv/rain_csv1913_rain.csv\n"
     ]
    },
    {
     "name": "stderr",
     "output_type": "stream",
     "text": [
      "/tmp/ipykernel_288/1601403735.py:5: UserWarning: Boolean Series key will be reindexed to match DataFrame index.\n",
      "  location_data = data[data[\"X\"] >= 89.75][data[\"Y\"] >= 21.75][data[\"X\"] <= 98][data[\"Y\"] <= 30]\n"
     ]
    },
    {
     "name": "stdout",
     "output_type": "stream",
     "text": [
      "saved 1913_rain.csv\n",
      "reading ../data/raw_csv/rain_csv1914_rain.csv\n"
     ]
    },
    {
     "name": "stderr",
     "output_type": "stream",
     "text": [
      "/tmp/ipykernel_288/1601403735.py:5: UserWarning: Boolean Series key will be reindexed to match DataFrame index.\n",
      "  location_data = data[data[\"X\"] >= 89.75][data[\"Y\"] >= 21.75][data[\"X\"] <= 98][data[\"Y\"] <= 30]\n"
     ]
    },
    {
     "name": "stdout",
     "output_type": "stream",
     "text": [
      "saved 1914_rain.csv\n",
      "reading ../data/raw_csv/rain_csv1915_rain.csv\n"
     ]
    },
    {
     "name": "stderr",
     "output_type": "stream",
     "text": [
      "/tmp/ipykernel_288/1601403735.py:5: UserWarning: Boolean Series key will be reindexed to match DataFrame index.\n",
      "  location_data = data[data[\"X\"] >= 89.75][data[\"Y\"] >= 21.75][data[\"X\"] <= 98][data[\"Y\"] <= 30]\n"
     ]
    },
    {
     "name": "stdout",
     "output_type": "stream",
     "text": [
      "saved 1915_rain.csv\n",
      "reading ../data/raw_csv/rain_csv1916_rain.csv\n"
     ]
    },
    {
     "name": "stderr",
     "output_type": "stream",
     "text": [
      "/tmp/ipykernel_288/1601403735.py:5: UserWarning: Boolean Series key will be reindexed to match DataFrame index.\n",
      "  location_data = data[data[\"X\"] >= 89.75][data[\"Y\"] >= 21.75][data[\"X\"] <= 98][data[\"Y\"] <= 30]\n"
     ]
    },
    {
     "name": "stdout",
     "output_type": "stream",
     "text": [
      "saved 1916_rain.csv\n",
      "reading ../data/raw_csv/rain_csv1917_rain.csv\n"
     ]
    },
    {
     "name": "stderr",
     "output_type": "stream",
     "text": [
      "/tmp/ipykernel_288/1601403735.py:5: UserWarning: Boolean Series key will be reindexed to match DataFrame index.\n",
      "  location_data = data[data[\"X\"] >= 89.75][data[\"Y\"] >= 21.75][data[\"X\"] <= 98][data[\"Y\"] <= 30]\n"
     ]
    },
    {
     "name": "stdout",
     "output_type": "stream",
     "text": [
      "saved 1917_rain.csv\n",
      "reading ../data/raw_csv/rain_csv1918_rain.csv\n"
     ]
    },
    {
     "name": "stderr",
     "output_type": "stream",
     "text": [
      "/tmp/ipykernel_288/1601403735.py:5: UserWarning: Boolean Series key will be reindexed to match DataFrame index.\n",
      "  location_data = data[data[\"X\"] >= 89.75][data[\"Y\"] >= 21.75][data[\"X\"] <= 98][data[\"Y\"] <= 30]\n"
     ]
    },
    {
     "name": "stdout",
     "output_type": "stream",
     "text": [
      "saved 1918_rain.csv\n",
      "reading ../data/raw_csv/rain_csv1919_rain.csv\n"
     ]
    },
    {
     "name": "stderr",
     "output_type": "stream",
     "text": [
      "/tmp/ipykernel_288/1601403735.py:5: UserWarning: Boolean Series key will be reindexed to match DataFrame index.\n",
      "  location_data = data[data[\"X\"] >= 89.75][data[\"Y\"] >= 21.75][data[\"X\"] <= 98][data[\"Y\"] <= 30]\n"
     ]
    },
    {
     "name": "stdout",
     "output_type": "stream",
     "text": [
      "saved 1919_rain.csv\n",
      "reading ../data/raw_csv/rain_csv1920_rain.csv\n"
     ]
    },
    {
     "name": "stderr",
     "output_type": "stream",
     "text": [
      "/tmp/ipykernel_288/1601403735.py:5: UserWarning: Boolean Series key will be reindexed to match DataFrame index.\n",
      "  location_data = data[data[\"X\"] >= 89.75][data[\"Y\"] >= 21.75][data[\"X\"] <= 98][data[\"Y\"] <= 30]\n"
     ]
    },
    {
     "name": "stdout",
     "output_type": "stream",
     "text": [
      "saved 1920_rain.csv\n",
      "reading ../data/raw_csv/rain_csv1921_rain.csv\n"
     ]
    },
    {
     "name": "stderr",
     "output_type": "stream",
     "text": [
      "/tmp/ipykernel_288/1601403735.py:5: UserWarning: Boolean Series key will be reindexed to match DataFrame index.\n",
      "  location_data = data[data[\"X\"] >= 89.75][data[\"Y\"] >= 21.75][data[\"X\"] <= 98][data[\"Y\"] <= 30]\n"
     ]
    },
    {
     "name": "stdout",
     "output_type": "stream",
     "text": [
      "saved 1921_rain.csv\n",
      "reading ../data/raw_csv/rain_csv1922_rain.csv\n"
     ]
    },
    {
     "name": "stderr",
     "output_type": "stream",
     "text": [
      "/tmp/ipykernel_288/1601403735.py:5: UserWarning: Boolean Series key will be reindexed to match DataFrame index.\n",
      "  location_data = data[data[\"X\"] >= 89.75][data[\"Y\"] >= 21.75][data[\"X\"] <= 98][data[\"Y\"] <= 30]\n"
     ]
    },
    {
     "name": "stdout",
     "output_type": "stream",
     "text": [
      "saved 1922_rain.csv\n",
      "reading ../data/raw_csv/rain_csv1923_rain.csv\n"
     ]
    },
    {
     "name": "stderr",
     "output_type": "stream",
     "text": [
      "/tmp/ipykernel_288/1601403735.py:5: UserWarning: Boolean Series key will be reindexed to match DataFrame index.\n",
      "  location_data = data[data[\"X\"] >= 89.75][data[\"Y\"] >= 21.75][data[\"X\"] <= 98][data[\"Y\"] <= 30]\n"
     ]
    },
    {
     "name": "stdout",
     "output_type": "stream",
     "text": [
      "saved 1923_rain.csv\n",
      "reading ../data/raw_csv/rain_csv1924_rain.csv\n"
     ]
    },
    {
     "name": "stderr",
     "output_type": "stream",
     "text": [
      "/tmp/ipykernel_288/1601403735.py:5: UserWarning: Boolean Series key will be reindexed to match DataFrame index.\n",
      "  location_data = data[data[\"X\"] >= 89.75][data[\"Y\"] >= 21.75][data[\"X\"] <= 98][data[\"Y\"] <= 30]\n"
     ]
    },
    {
     "name": "stdout",
     "output_type": "stream",
     "text": [
      "saved 1924_rain.csv\n",
      "reading ../data/raw_csv/rain_csv1925_rain.csv\n"
     ]
    },
    {
     "name": "stderr",
     "output_type": "stream",
     "text": [
      "/tmp/ipykernel_288/1601403735.py:5: UserWarning: Boolean Series key will be reindexed to match DataFrame index.\n",
      "  location_data = data[data[\"X\"] >= 89.75][data[\"Y\"] >= 21.75][data[\"X\"] <= 98][data[\"Y\"] <= 30]\n"
     ]
    },
    {
     "name": "stdout",
     "output_type": "stream",
     "text": [
      "saved 1925_rain.csv\n",
      "reading ../data/raw_csv/rain_csv1926_rain.csv\n"
     ]
    },
    {
     "name": "stderr",
     "output_type": "stream",
     "text": [
      "/tmp/ipykernel_288/1601403735.py:5: UserWarning: Boolean Series key will be reindexed to match DataFrame index.\n",
      "  location_data = data[data[\"X\"] >= 89.75][data[\"Y\"] >= 21.75][data[\"X\"] <= 98][data[\"Y\"] <= 30]\n"
     ]
    },
    {
     "name": "stdout",
     "output_type": "stream",
     "text": [
      "saved 1926_rain.csv\n",
      "reading ../data/raw_csv/rain_csv1927_rain.csv\n"
     ]
    },
    {
     "name": "stderr",
     "output_type": "stream",
     "text": [
      "/tmp/ipykernel_288/1601403735.py:5: UserWarning: Boolean Series key will be reindexed to match DataFrame index.\n",
      "  location_data = data[data[\"X\"] >= 89.75][data[\"Y\"] >= 21.75][data[\"X\"] <= 98][data[\"Y\"] <= 30]\n"
     ]
    },
    {
     "name": "stdout",
     "output_type": "stream",
     "text": [
      "saved 1927_rain.csv\n",
      "reading ../data/raw_csv/rain_csv1928_rain.csv\n"
     ]
    },
    {
     "name": "stderr",
     "output_type": "stream",
     "text": [
      "/tmp/ipykernel_288/1601403735.py:5: UserWarning: Boolean Series key will be reindexed to match DataFrame index.\n",
      "  location_data = data[data[\"X\"] >= 89.75][data[\"Y\"] >= 21.75][data[\"X\"] <= 98][data[\"Y\"] <= 30]\n"
     ]
    },
    {
     "name": "stdout",
     "output_type": "stream",
     "text": [
      "saved 1928_rain.csv\n",
      "reading ../data/raw_csv/rain_csv1929_rain.csv\n"
     ]
    },
    {
     "name": "stderr",
     "output_type": "stream",
     "text": [
      "/tmp/ipykernel_288/1601403735.py:5: UserWarning: Boolean Series key will be reindexed to match DataFrame index.\n",
      "  location_data = data[data[\"X\"] >= 89.75][data[\"Y\"] >= 21.75][data[\"X\"] <= 98][data[\"Y\"] <= 30]\n"
     ]
    },
    {
     "name": "stdout",
     "output_type": "stream",
     "text": [
      "saved 1929_rain.csv\n",
      "reading ../data/raw_csv/rain_csv1930_rain.csv\n"
     ]
    },
    {
     "name": "stderr",
     "output_type": "stream",
     "text": [
      "/tmp/ipykernel_288/1601403735.py:5: UserWarning: Boolean Series key will be reindexed to match DataFrame index.\n",
      "  location_data = data[data[\"X\"] >= 89.75][data[\"Y\"] >= 21.75][data[\"X\"] <= 98][data[\"Y\"] <= 30]\n"
     ]
    },
    {
     "name": "stdout",
     "output_type": "stream",
     "text": [
      "saved 1930_rain.csv\n",
      "reading ../data/raw_csv/rain_csv1931_rain.csv\n"
     ]
    },
    {
     "name": "stderr",
     "output_type": "stream",
     "text": [
      "/tmp/ipykernel_288/1601403735.py:5: UserWarning: Boolean Series key will be reindexed to match DataFrame index.\n",
      "  location_data = data[data[\"X\"] >= 89.75][data[\"Y\"] >= 21.75][data[\"X\"] <= 98][data[\"Y\"] <= 30]\n"
     ]
    },
    {
     "name": "stdout",
     "output_type": "stream",
     "text": [
      "saved 1931_rain.csv\n",
      "reading ../data/raw_csv/rain_csv1932_rain.csv\n"
     ]
    },
    {
     "name": "stderr",
     "output_type": "stream",
     "text": [
      "/tmp/ipykernel_288/1601403735.py:5: UserWarning: Boolean Series key will be reindexed to match DataFrame index.\n",
      "  location_data = data[data[\"X\"] >= 89.75][data[\"Y\"] >= 21.75][data[\"X\"] <= 98][data[\"Y\"] <= 30]\n"
     ]
    },
    {
     "name": "stdout",
     "output_type": "stream",
     "text": [
      "saved 1932_rain.csv\n",
      "reading ../data/raw_csv/rain_csv1933_rain.csv\n"
     ]
    },
    {
     "name": "stderr",
     "output_type": "stream",
     "text": [
      "/tmp/ipykernel_288/1601403735.py:5: UserWarning: Boolean Series key will be reindexed to match DataFrame index.\n",
      "  location_data = data[data[\"X\"] >= 89.75][data[\"Y\"] >= 21.75][data[\"X\"] <= 98][data[\"Y\"] <= 30]\n"
     ]
    },
    {
     "name": "stdout",
     "output_type": "stream",
     "text": [
      "saved 1933_rain.csv\n",
      "reading ../data/raw_csv/rain_csv1934_rain.csv\n"
     ]
    },
    {
     "name": "stderr",
     "output_type": "stream",
     "text": [
      "/tmp/ipykernel_288/1601403735.py:5: UserWarning: Boolean Series key will be reindexed to match DataFrame index.\n",
      "  location_data = data[data[\"X\"] >= 89.75][data[\"Y\"] >= 21.75][data[\"X\"] <= 98][data[\"Y\"] <= 30]\n"
     ]
    },
    {
     "name": "stdout",
     "output_type": "stream",
     "text": [
      "saved 1934_rain.csv\n",
      "reading ../data/raw_csv/rain_csv1935_rain.csv\n"
     ]
    },
    {
     "name": "stderr",
     "output_type": "stream",
     "text": [
      "/tmp/ipykernel_288/1601403735.py:5: UserWarning: Boolean Series key will be reindexed to match DataFrame index.\n",
      "  location_data = data[data[\"X\"] >= 89.75][data[\"Y\"] >= 21.75][data[\"X\"] <= 98][data[\"Y\"] <= 30]\n"
     ]
    },
    {
     "name": "stdout",
     "output_type": "stream",
     "text": [
      "saved 1935_rain.csv\n",
      "reading ../data/raw_csv/rain_csv1936_rain.csv\n"
     ]
    },
    {
     "name": "stderr",
     "output_type": "stream",
     "text": [
      "/tmp/ipykernel_288/1601403735.py:5: UserWarning: Boolean Series key will be reindexed to match DataFrame index.\n",
      "  location_data = data[data[\"X\"] >= 89.75][data[\"Y\"] >= 21.75][data[\"X\"] <= 98][data[\"Y\"] <= 30]\n"
     ]
    },
    {
     "name": "stdout",
     "output_type": "stream",
     "text": [
      "saved 1936_rain.csv\n",
      "reading ../data/raw_csv/rain_csv1937_rain.csv\n"
     ]
    },
    {
     "name": "stderr",
     "output_type": "stream",
     "text": [
      "/tmp/ipykernel_288/1601403735.py:5: UserWarning: Boolean Series key will be reindexed to match DataFrame index.\n",
      "  location_data = data[data[\"X\"] >= 89.75][data[\"Y\"] >= 21.75][data[\"X\"] <= 98][data[\"Y\"] <= 30]\n"
     ]
    },
    {
     "name": "stdout",
     "output_type": "stream",
     "text": [
      "saved 1937_rain.csv\n",
      "reading ../data/raw_csv/rain_csv1938_rain.csv\n"
     ]
    },
    {
     "name": "stderr",
     "output_type": "stream",
     "text": [
      "/tmp/ipykernel_288/1601403735.py:5: UserWarning: Boolean Series key will be reindexed to match DataFrame index.\n",
      "  location_data = data[data[\"X\"] >= 89.75][data[\"Y\"] >= 21.75][data[\"X\"] <= 98][data[\"Y\"] <= 30]\n"
     ]
    },
    {
     "name": "stdout",
     "output_type": "stream",
     "text": [
      "saved 1938_rain.csv\n",
      "reading ../data/raw_csv/rain_csv1939_rain.csv\n"
     ]
    },
    {
     "name": "stderr",
     "output_type": "stream",
     "text": [
      "/tmp/ipykernel_288/1601403735.py:5: UserWarning: Boolean Series key will be reindexed to match DataFrame index.\n",
      "  location_data = data[data[\"X\"] >= 89.75][data[\"Y\"] >= 21.75][data[\"X\"] <= 98][data[\"Y\"] <= 30]\n"
     ]
    },
    {
     "name": "stdout",
     "output_type": "stream",
     "text": [
      "saved 1939_rain.csv\n",
      "reading ../data/raw_csv/rain_csv1940_rain.csv\n"
     ]
    },
    {
     "name": "stderr",
     "output_type": "stream",
     "text": [
      "/tmp/ipykernel_288/1601403735.py:5: UserWarning: Boolean Series key will be reindexed to match DataFrame index.\n",
      "  location_data = data[data[\"X\"] >= 89.75][data[\"Y\"] >= 21.75][data[\"X\"] <= 98][data[\"Y\"] <= 30]\n"
     ]
    },
    {
     "name": "stdout",
     "output_type": "stream",
     "text": [
      "saved 1940_rain.csv\n",
      "reading ../data/raw_csv/rain_csv1941_rain.csv\n"
     ]
    },
    {
     "name": "stderr",
     "output_type": "stream",
     "text": [
      "/tmp/ipykernel_288/1601403735.py:5: UserWarning: Boolean Series key will be reindexed to match DataFrame index.\n",
      "  location_data = data[data[\"X\"] >= 89.75][data[\"Y\"] >= 21.75][data[\"X\"] <= 98][data[\"Y\"] <= 30]\n"
     ]
    },
    {
     "name": "stdout",
     "output_type": "stream",
     "text": [
      "saved 1941_rain.csv\n",
      "reading ../data/raw_csv/rain_csv1942_rain.csv\n"
     ]
    },
    {
     "name": "stderr",
     "output_type": "stream",
     "text": [
      "/tmp/ipykernel_288/1601403735.py:5: UserWarning: Boolean Series key will be reindexed to match DataFrame index.\n",
      "  location_data = data[data[\"X\"] >= 89.75][data[\"Y\"] >= 21.75][data[\"X\"] <= 98][data[\"Y\"] <= 30]\n"
     ]
    },
    {
     "name": "stdout",
     "output_type": "stream",
     "text": [
      "saved 1942_rain.csv\n",
      "reading ../data/raw_csv/rain_csv1943_rain.csv\n"
     ]
    },
    {
     "name": "stderr",
     "output_type": "stream",
     "text": [
      "/tmp/ipykernel_288/1601403735.py:5: UserWarning: Boolean Series key will be reindexed to match DataFrame index.\n",
      "  location_data = data[data[\"X\"] >= 89.75][data[\"Y\"] >= 21.75][data[\"X\"] <= 98][data[\"Y\"] <= 30]\n"
     ]
    },
    {
     "name": "stdout",
     "output_type": "stream",
     "text": [
      "saved 1943_rain.csv\n",
      "reading ../data/raw_csv/rain_csv1944_rain.csv\n"
     ]
    },
    {
     "name": "stderr",
     "output_type": "stream",
     "text": [
      "/tmp/ipykernel_288/1601403735.py:5: UserWarning: Boolean Series key will be reindexed to match DataFrame index.\n",
      "  location_data = data[data[\"X\"] >= 89.75][data[\"Y\"] >= 21.75][data[\"X\"] <= 98][data[\"Y\"] <= 30]\n"
     ]
    },
    {
     "name": "stdout",
     "output_type": "stream",
     "text": [
      "saved 1944_rain.csv\n",
      "reading ../data/raw_csv/rain_csv1945_rain.csv\n"
     ]
    },
    {
     "name": "stderr",
     "output_type": "stream",
     "text": [
      "/tmp/ipykernel_288/1601403735.py:5: UserWarning: Boolean Series key will be reindexed to match DataFrame index.\n",
      "  location_data = data[data[\"X\"] >= 89.75][data[\"Y\"] >= 21.75][data[\"X\"] <= 98][data[\"Y\"] <= 30]\n"
     ]
    },
    {
     "name": "stdout",
     "output_type": "stream",
     "text": [
      "saved 1945_rain.csv\n",
      "reading ../data/raw_csv/rain_csv1946_rain.csv\n"
     ]
    },
    {
     "name": "stderr",
     "output_type": "stream",
     "text": [
      "/tmp/ipykernel_288/1601403735.py:5: UserWarning: Boolean Series key will be reindexed to match DataFrame index.\n",
      "  location_data = data[data[\"X\"] >= 89.75][data[\"Y\"] >= 21.75][data[\"X\"] <= 98][data[\"Y\"] <= 30]\n"
     ]
    },
    {
     "name": "stdout",
     "output_type": "stream",
     "text": [
      "saved 1946_rain.csv\n",
      "reading ../data/raw_csv/rain_csv1947_rain.csv\n"
     ]
    },
    {
     "name": "stderr",
     "output_type": "stream",
     "text": [
      "/tmp/ipykernel_288/1601403735.py:5: UserWarning: Boolean Series key will be reindexed to match DataFrame index.\n",
      "  location_data = data[data[\"X\"] >= 89.75][data[\"Y\"] >= 21.75][data[\"X\"] <= 98][data[\"Y\"] <= 30]\n"
     ]
    },
    {
     "name": "stdout",
     "output_type": "stream",
     "text": [
      "saved 1947_rain.csv\n",
      "reading ../data/raw_csv/rain_csv1948_rain.csv\n"
     ]
    },
    {
     "name": "stderr",
     "output_type": "stream",
     "text": [
      "/tmp/ipykernel_288/1601403735.py:5: UserWarning: Boolean Series key will be reindexed to match DataFrame index.\n",
      "  location_data = data[data[\"X\"] >= 89.75][data[\"Y\"] >= 21.75][data[\"X\"] <= 98][data[\"Y\"] <= 30]\n"
     ]
    },
    {
     "name": "stdout",
     "output_type": "stream",
     "text": [
      "saved 1948_rain.csv\n",
      "reading ../data/raw_csv/rain_csv1949_rain.csv\n"
     ]
    },
    {
     "name": "stderr",
     "output_type": "stream",
     "text": [
      "/tmp/ipykernel_288/1601403735.py:5: UserWarning: Boolean Series key will be reindexed to match DataFrame index.\n",
      "  location_data = data[data[\"X\"] >= 89.75][data[\"Y\"] >= 21.75][data[\"X\"] <= 98][data[\"Y\"] <= 30]\n"
     ]
    },
    {
     "name": "stdout",
     "output_type": "stream",
     "text": [
      "saved 1949_rain.csv\n",
      "reading ../data/raw_csv/rain_csv1950_rain.csv\n"
     ]
    },
    {
     "name": "stderr",
     "output_type": "stream",
     "text": [
      "/tmp/ipykernel_288/1601403735.py:5: UserWarning: Boolean Series key will be reindexed to match DataFrame index.\n",
      "  location_data = data[data[\"X\"] >= 89.75][data[\"Y\"] >= 21.75][data[\"X\"] <= 98][data[\"Y\"] <= 30]\n"
     ]
    },
    {
     "name": "stdout",
     "output_type": "stream",
     "text": [
      "saved 1950_rain.csv\n",
      "reading ../data/raw_csv/rain_csv1951_rain.csv\n"
     ]
    },
    {
     "name": "stderr",
     "output_type": "stream",
     "text": [
      "/tmp/ipykernel_288/1601403735.py:5: UserWarning: Boolean Series key will be reindexed to match DataFrame index.\n",
      "  location_data = data[data[\"X\"] >= 89.75][data[\"Y\"] >= 21.75][data[\"X\"] <= 98][data[\"Y\"] <= 30]\n"
     ]
    },
    {
     "name": "stdout",
     "output_type": "stream",
     "text": [
      "saved 1951_rain.csv\n",
      "reading ../data/raw_csv/rain_csv1952_rain.csv\n"
     ]
    },
    {
     "name": "stderr",
     "output_type": "stream",
     "text": [
      "/tmp/ipykernel_288/1601403735.py:5: UserWarning: Boolean Series key will be reindexed to match DataFrame index.\n",
      "  location_data = data[data[\"X\"] >= 89.75][data[\"Y\"] >= 21.75][data[\"X\"] <= 98][data[\"Y\"] <= 30]\n"
     ]
    },
    {
     "name": "stdout",
     "output_type": "stream",
     "text": [
      "saved 1952_rain.csv\n",
      "reading ../data/raw_csv/rain_csv1953_rain.csv\n"
     ]
    },
    {
     "name": "stderr",
     "output_type": "stream",
     "text": [
      "/tmp/ipykernel_288/1601403735.py:5: UserWarning: Boolean Series key will be reindexed to match DataFrame index.\n",
      "  location_data = data[data[\"X\"] >= 89.75][data[\"Y\"] >= 21.75][data[\"X\"] <= 98][data[\"Y\"] <= 30]\n"
     ]
    },
    {
     "name": "stdout",
     "output_type": "stream",
     "text": [
      "saved 1953_rain.csv\n",
      "reading ../data/raw_csv/rain_csv1954_rain.csv\n"
     ]
    },
    {
     "name": "stderr",
     "output_type": "stream",
     "text": [
      "/tmp/ipykernel_288/1601403735.py:5: UserWarning: Boolean Series key will be reindexed to match DataFrame index.\n",
      "  location_data = data[data[\"X\"] >= 89.75][data[\"Y\"] >= 21.75][data[\"X\"] <= 98][data[\"Y\"] <= 30]\n"
     ]
    },
    {
     "name": "stdout",
     "output_type": "stream",
     "text": [
      "saved 1954_rain.csv\n",
      "reading ../data/raw_csv/rain_csv1955_rain.csv\n"
     ]
    },
    {
     "name": "stderr",
     "output_type": "stream",
     "text": [
      "/tmp/ipykernel_288/1601403735.py:5: UserWarning: Boolean Series key will be reindexed to match DataFrame index.\n",
      "  location_data = data[data[\"X\"] >= 89.75][data[\"Y\"] >= 21.75][data[\"X\"] <= 98][data[\"Y\"] <= 30]\n"
     ]
    },
    {
     "name": "stdout",
     "output_type": "stream",
     "text": [
      "saved 1955_rain.csv\n",
      "reading ../data/raw_csv/rain_csv1956_rain.csv\n"
     ]
    },
    {
     "name": "stderr",
     "output_type": "stream",
     "text": [
      "/tmp/ipykernel_288/1601403735.py:5: UserWarning: Boolean Series key will be reindexed to match DataFrame index.\n",
      "  location_data = data[data[\"X\"] >= 89.75][data[\"Y\"] >= 21.75][data[\"X\"] <= 98][data[\"Y\"] <= 30]\n"
     ]
    },
    {
     "name": "stdout",
     "output_type": "stream",
     "text": [
      "saved 1956_rain.csv\n",
      "reading ../data/raw_csv/rain_csv1957_rain.csv\n"
     ]
    },
    {
     "name": "stderr",
     "output_type": "stream",
     "text": [
      "/tmp/ipykernel_288/1601403735.py:5: UserWarning: Boolean Series key will be reindexed to match DataFrame index.\n",
      "  location_data = data[data[\"X\"] >= 89.75][data[\"Y\"] >= 21.75][data[\"X\"] <= 98][data[\"Y\"] <= 30]\n"
     ]
    },
    {
     "name": "stdout",
     "output_type": "stream",
     "text": [
      "saved 1957_rain.csv\n",
      "reading ../data/raw_csv/rain_csv1958_rain.csv\n"
     ]
    },
    {
     "name": "stderr",
     "output_type": "stream",
     "text": [
      "/tmp/ipykernel_288/1601403735.py:5: UserWarning: Boolean Series key will be reindexed to match DataFrame index.\n",
      "  location_data = data[data[\"X\"] >= 89.75][data[\"Y\"] >= 21.75][data[\"X\"] <= 98][data[\"Y\"] <= 30]\n"
     ]
    },
    {
     "name": "stdout",
     "output_type": "stream",
     "text": [
      "saved 1958_rain.csv\n",
      "reading ../data/raw_csv/rain_csv1959_rain.csv\n"
     ]
    },
    {
     "name": "stderr",
     "output_type": "stream",
     "text": [
      "/tmp/ipykernel_288/1601403735.py:5: UserWarning: Boolean Series key will be reindexed to match DataFrame index.\n",
      "  location_data = data[data[\"X\"] >= 89.75][data[\"Y\"] >= 21.75][data[\"X\"] <= 98][data[\"Y\"] <= 30]\n"
     ]
    },
    {
     "name": "stdout",
     "output_type": "stream",
     "text": [
      "saved 1959_rain.csv\n",
      "reading ../data/raw_csv/rain_csv1960_rain.csv\n"
     ]
    },
    {
     "name": "stderr",
     "output_type": "stream",
     "text": [
      "/tmp/ipykernel_288/1601403735.py:5: UserWarning: Boolean Series key will be reindexed to match DataFrame index.\n",
      "  location_data = data[data[\"X\"] >= 89.75][data[\"Y\"] >= 21.75][data[\"X\"] <= 98][data[\"Y\"] <= 30]\n"
     ]
    },
    {
     "name": "stdout",
     "output_type": "stream",
     "text": [
      "saved 1960_rain.csv\n",
      "reading ../data/raw_csv/rain_csv1961_rain.csv\n"
     ]
    },
    {
     "name": "stderr",
     "output_type": "stream",
     "text": [
      "/tmp/ipykernel_288/1601403735.py:5: UserWarning: Boolean Series key will be reindexed to match DataFrame index.\n",
      "  location_data = data[data[\"X\"] >= 89.75][data[\"Y\"] >= 21.75][data[\"X\"] <= 98][data[\"Y\"] <= 30]\n"
     ]
    },
    {
     "name": "stdout",
     "output_type": "stream",
     "text": [
      "saved 1961_rain.csv\n",
      "reading ../data/raw_csv/rain_csv1962_rain.csv\n"
     ]
    },
    {
     "name": "stderr",
     "output_type": "stream",
     "text": [
      "/tmp/ipykernel_288/1601403735.py:5: UserWarning: Boolean Series key will be reindexed to match DataFrame index.\n",
      "  location_data = data[data[\"X\"] >= 89.75][data[\"Y\"] >= 21.75][data[\"X\"] <= 98][data[\"Y\"] <= 30]\n"
     ]
    },
    {
     "name": "stdout",
     "output_type": "stream",
     "text": [
      "saved 1962_rain.csv\n",
      "reading ../data/raw_csv/rain_csv1963_rain.csv\n"
     ]
    },
    {
     "name": "stderr",
     "output_type": "stream",
     "text": [
      "/tmp/ipykernel_288/1601403735.py:5: UserWarning: Boolean Series key will be reindexed to match DataFrame index.\n",
      "  location_data = data[data[\"X\"] >= 89.75][data[\"Y\"] >= 21.75][data[\"X\"] <= 98][data[\"Y\"] <= 30]\n"
     ]
    },
    {
     "name": "stdout",
     "output_type": "stream",
     "text": [
      "saved 1963_rain.csv\n",
      "reading ../data/raw_csv/rain_csv1964_rain.csv\n"
     ]
    },
    {
     "name": "stderr",
     "output_type": "stream",
     "text": [
      "/tmp/ipykernel_288/1601403735.py:5: UserWarning: Boolean Series key will be reindexed to match DataFrame index.\n",
      "  location_data = data[data[\"X\"] >= 89.75][data[\"Y\"] >= 21.75][data[\"X\"] <= 98][data[\"Y\"] <= 30]\n"
     ]
    },
    {
     "name": "stdout",
     "output_type": "stream",
     "text": [
      "saved 1964_rain.csv\n",
      "reading ../data/raw_csv/rain_csv1965_rain.csv\n"
     ]
    },
    {
     "name": "stderr",
     "output_type": "stream",
     "text": [
      "/tmp/ipykernel_288/1601403735.py:5: UserWarning: Boolean Series key will be reindexed to match DataFrame index.\n",
      "  location_data = data[data[\"X\"] >= 89.75][data[\"Y\"] >= 21.75][data[\"X\"] <= 98][data[\"Y\"] <= 30]\n"
     ]
    },
    {
     "name": "stdout",
     "output_type": "stream",
     "text": [
      "saved 1965_rain.csv\n",
      "reading ../data/raw_csv/rain_csv1966_rain.csv\n"
     ]
    },
    {
     "name": "stderr",
     "output_type": "stream",
     "text": [
      "/tmp/ipykernel_288/1601403735.py:5: UserWarning: Boolean Series key will be reindexed to match DataFrame index.\n",
      "  location_data = data[data[\"X\"] >= 89.75][data[\"Y\"] >= 21.75][data[\"X\"] <= 98][data[\"Y\"] <= 30]\n"
     ]
    },
    {
     "name": "stdout",
     "output_type": "stream",
     "text": [
      "saved 1966_rain.csv\n",
      "reading ../data/raw_csv/rain_csv1967_rain.csv\n"
     ]
    },
    {
     "name": "stderr",
     "output_type": "stream",
     "text": [
      "/tmp/ipykernel_288/1601403735.py:5: UserWarning: Boolean Series key will be reindexed to match DataFrame index.\n",
      "  location_data = data[data[\"X\"] >= 89.75][data[\"Y\"] >= 21.75][data[\"X\"] <= 98][data[\"Y\"] <= 30]\n"
     ]
    },
    {
     "name": "stdout",
     "output_type": "stream",
     "text": [
      "saved 1967_rain.csv\n",
      "reading ../data/raw_csv/rain_csv1968_rain.csv\n"
     ]
    },
    {
     "name": "stderr",
     "output_type": "stream",
     "text": [
      "/tmp/ipykernel_288/1601403735.py:5: UserWarning: Boolean Series key will be reindexed to match DataFrame index.\n",
      "  location_data = data[data[\"X\"] >= 89.75][data[\"Y\"] >= 21.75][data[\"X\"] <= 98][data[\"Y\"] <= 30]\n"
     ]
    },
    {
     "name": "stdout",
     "output_type": "stream",
     "text": [
      "saved 1968_rain.csv\n",
      "reading ../data/raw_csv/rain_csv1969_rain.csv\n"
     ]
    },
    {
     "name": "stderr",
     "output_type": "stream",
     "text": [
      "/tmp/ipykernel_288/1601403735.py:5: UserWarning: Boolean Series key will be reindexed to match DataFrame index.\n",
      "  location_data = data[data[\"X\"] >= 89.75][data[\"Y\"] >= 21.75][data[\"X\"] <= 98][data[\"Y\"] <= 30]\n"
     ]
    },
    {
     "name": "stdout",
     "output_type": "stream",
     "text": [
      "saved 1969_rain.csv\n",
      "reading ../data/raw_csv/rain_csv1970_rain.csv\n"
     ]
    },
    {
     "name": "stderr",
     "output_type": "stream",
     "text": [
      "/tmp/ipykernel_288/1601403735.py:5: UserWarning: Boolean Series key will be reindexed to match DataFrame index.\n",
      "  location_data = data[data[\"X\"] >= 89.75][data[\"Y\"] >= 21.75][data[\"X\"] <= 98][data[\"Y\"] <= 30]\n"
     ]
    },
    {
     "name": "stdout",
     "output_type": "stream",
     "text": [
      "saved 1970_rain.csv\n",
      "reading ../data/raw_csv/rain_csv1971_rain.csv\n"
     ]
    },
    {
     "name": "stderr",
     "output_type": "stream",
     "text": [
      "/tmp/ipykernel_288/1601403735.py:5: UserWarning: Boolean Series key will be reindexed to match DataFrame index.\n",
      "  location_data = data[data[\"X\"] >= 89.75][data[\"Y\"] >= 21.75][data[\"X\"] <= 98][data[\"Y\"] <= 30]\n"
     ]
    },
    {
     "name": "stdout",
     "output_type": "stream",
     "text": [
      "saved 1971_rain.csv\n",
      "reading ../data/raw_csv/rain_csv1972_rain.csv\n"
     ]
    },
    {
     "name": "stderr",
     "output_type": "stream",
     "text": [
      "/tmp/ipykernel_288/1601403735.py:5: UserWarning: Boolean Series key will be reindexed to match DataFrame index.\n",
      "  location_data = data[data[\"X\"] >= 89.75][data[\"Y\"] >= 21.75][data[\"X\"] <= 98][data[\"Y\"] <= 30]\n"
     ]
    },
    {
     "name": "stdout",
     "output_type": "stream",
     "text": [
      "saved 1972_rain.csv\n",
      "reading ../data/raw_csv/rain_csv1973_rain.csv\n"
     ]
    },
    {
     "name": "stderr",
     "output_type": "stream",
     "text": [
      "/tmp/ipykernel_288/1601403735.py:5: UserWarning: Boolean Series key will be reindexed to match DataFrame index.\n",
      "  location_data = data[data[\"X\"] >= 89.75][data[\"Y\"] >= 21.75][data[\"X\"] <= 98][data[\"Y\"] <= 30]\n"
     ]
    },
    {
     "name": "stdout",
     "output_type": "stream",
     "text": [
      "saved 1973_rain.csv\n",
      "reading ../data/raw_csv/rain_csv1974_rain.csv\n"
     ]
    },
    {
     "name": "stderr",
     "output_type": "stream",
     "text": [
      "/tmp/ipykernel_288/1601403735.py:5: UserWarning: Boolean Series key will be reindexed to match DataFrame index.\n",
      "  location_data = data[data[\"X\"] >= 89.75][data[\"Y\"] >= 21.75][data[\"X\"] <= 98][data[\"Y\"] <= 30]\n"
     ]
    },
    {
     "name": "stdout",
     "output_type": "stream",
     "text": [
      "saved 1974_rain.csv\n",
      "reading ../data/raw_csv/rain_csv1975_rain.csv\n"
     ]
    },
    {
     "name": "stderr",
     "output_type": "stream",
     "text": [
      "/tmp/ipykernel_288/1601403735.py:5: UserWarning: Boolean Series key will be reindexed to match DataFrame index.\n",
      "  location_data = data[data[\"X\"] >= 89.75][data[\"Y\"] >= 21.75][data[\"X\"] <= 98][data[\"Y\"] <= 30]\n"
     ]
    },
    {
     "name": "stdout",
     "output_type": "stream",
     "text": [
      "saved 1975_rain.csv\n",
      "reading ../data/raw_csv/rain_csv1976_rain.csv\n"
     ]
    },
    {
     "name": "stderr",
     "output_type": "stream",
     "text": [
      "/tmp/ipykernel_288/1601403735.py:5: UserWarning: Boolean Series key will be reindexed to match DataFrame index.\n",
      "  location_data = data[data[\"X\"] >= 89.75][data[\"Y\"] >= 21.75][data[\"X\"] <= 98][data[\"Y\"] <= 30]\n"
     ]
    },
    {
     "name": "stdout",
     "output_type": "stream",
     "text": [
      "saved 1976_rain.csv\n",
      "reading ../data/raw_csv/rain_csv1977_rain.csv\n"
     ]
    },
    {
     "name": "stderr",
     "output_type": "stream",
     "text": [
      "/tmp/ipykernel_288/1601403735.py:5: UserWarning: Boolean Series key will be reindexed to match DataFrame index.\n",
      "  location_data = data[data[\"X\"] >= 89.75][data[\"Y\"] >= 21.75][data[\"X\"] <= 98][data[\"Y\"] <= 30]\n"
     ]
    },
    {
     "name": "stdout",
     "output_type": "stream",
     "text": [
      "saved 1977_rain.csv\n",
      "reading ../data/raw_csv/rain_csv1978_rain.csv\n"
     ]
    },
    {
     "name": "stderr",
     "output_type": "stream",
     "text": [
      "/tmp/ipykernel_288/1601403735.py:5: UserWarning: Boolean Series key will be reindexed to match DataFrame index.\n",
      "  location_data = data[data[\"X\"] >= 89.75][data[\"Y\"] >= 21.75][data[\"X\"] <= 98][data[\"Y\"] <= 30]\n"
     ]
    },
    {
     "name": "stdout",
     "output_type": "stream",
     "text": [
      "saved 1978_rain.csv\n",
      "reading ../data/raw_csv/rain_csv1979_rain.csv\n"
     ]
    },
    {
     "name": "stderr",
     "output_type": "stream",
     "text": [
      "/tmp/ipykernel_288/1601403735.py:5: UserWarning: Boolean Series key will be reindexed to match DataFrame index.\n",
      "  location_data = data[data[\"X\"] >= 89.75][data[\"Y\"] >= 21.75][data[\"X\"] <= 98][data[\"Y\"] <= 30]\n"
     ]
    },
    {
     "name": "stdout",
     "output_type": "stream",
     "text": [
      "saved 1979_rain.csv\n",
      "reading ../data/raw_csv/rain_csv1980_rain.csv\n"
     ]
    },
    {
     "name": "stderr",
     "output_type": "stream",
     "text": [
      "/tmp/ipykernel_288/1601403735.py:5: UserWarning: Boolean Series key will be reindexed to match DataFrame index.\n",
      "  location_data = data[data[\"X\"] >= 89.75][data[\"Y\"] >= 21.75][data[\"X\"] <= 98][data[\"Y\"] <= 30]\n"
     ]
    },
    {
     "name": "stdout",
     "output_type": "stream",
     "text": [
      "saved 1980_rain.csv\n",
      "reading ../data/raw_csv/rain_csv1981_rain.csv\n"
     ]
    },
    {
     "name": "stderr",
     "output_type": "stream",
     "text": [
      "/tmp/ipykernel_288/1601403735.py:5: UserWarning: Boolean Series key will be reindexed to match DataFrame index.\n",
      "  location_data = data[data[\"X\"] >= 89.75][data[\"Y\"] >= 21.75][data[\"X\"] <= 98][data[\"Y\"] <= 30]\n"
     ]
    },
    {
     "name": "stdout",
     "output_type": "stream",
     "text": [
      "saved 1981_rain.csv\n",
      "reading ../data/raw_csv/rain_csv1982_rain.csv\n"
     ]
    },
    {
     "name": "stderr",
     "output_type": "stream",
     "text": [
      "/tmp/ipykernel_288/1601403735.py:5: UserWarning: Boolean Series key will be reindexed to match DataFrame index.\n",
      "  location_data = data[data[\"X\"] >= 89.75][data[\"Y\"] >= 21.75][data[\"X\"] <= 98][data[\"Y\"] <= 30]\n"
     ]
    },
    {
     "name": "stdout",
     "output_type": "stream",
     "text": [
      "saved 1982_rain.csv\n",
      "reading ../data/raw_csv/rain_csv1983_rain.csv\n"
     ]
    },
    {
     "name": "stderr",
     "output_type": "stream",
     "text": [
      "/tmp/ipykernel_288/1601403735.py:5: UserWarning: Boolean Series key will be reindexed to match DataFrame index.\n",
      "  location_data = data[data[\"X\"] >= 89.75][data[\"Y\"] >= 21.75][data[\"X\"] <= 98][data[\"Y\"] <= 30]\n"
     ]
    },
    {
     "name": "stdout",
     "output_type": "stream",
     "text": [
      "saved 1983_rain.csv\n",
      "reading ../data/raw_csv/rain_csv1984_rain.csv\n"
     ]
    },
    {
     "name": "stderr",
     "output_type": "stream",
     "text": [
      "/tmp/ipykernel_288/1601403735.py:5: UserWarning: Boolean Series key will be reindexed to match DataFrame index.\n",
      "  location_data = data[data[\"X\"] >= 89.75][data[\"Y\"] >= 21.75][data[\"X\"] <= 98][data[\"Y\"] <= 30]\n"
     ]
    },
    {
     "name": "stdout",
     "output_type": "stream",
     "text": [
      "saved 1984_rain.csv\n",
      "reading ../data/raw_csv/rain_csv1985_rain.csv\n"
     ]
    },
    {
     "name": "stderr",
     "output_type": "stream",
     "text": [
      "/tmp/ipykernel_288/1601403735.py:5: UserWarning: Boolean Series key will be reindexed to match DataFrame index.\n",
      "  location_data = data[data[\"X\"] >= 89.75][data[\"Y\"] >= 21.75][data[\"X\"] <= 98][data[\"Y\"] <= 30]\n"
     ]
    },
    {
     "name": "stdout",
     "output_type": "stream",
     "text": [
      "saved 1985_rain.csv\n",
      "reading ../data/raw_csv/rain_csv1986_rain.csv\n"
     ]
    },
    {
     "name": "stderr",
     "output_type": "stream",
     "text": [
      "/tmp/ipykernel_288/1601403735.py:5: UserWarning: Boolean Series key will be reindexed to match DataFrame index.\n",
      "  location_data = data[data[\"X\"] >= 89.75][data[\"Y\"] >= 21.75][data[\"X\"] <= 98][data[\"Y\"] <= 30]\n"
     ]
    },
    {
     "name": "stdout",
     "output_type": "stream",
     "text": [
      "saved 1986_rain.csv\n",
      "reading ../data/raw_csv/rain_csv1987_rain.csv\n"
     ]
    },
    {
     "name": "stderr",
     "output_type": "stream",
     "text": [
      "/tmp/ipykernel_288/1601403735.py:5: UserWarning: Boolean Series key will be reindexed to match DataFrame index.\n",
      "  location_data = data[data[\"X\"] >= 89.75][data[\"Y\"] >= 21.75][data[\"X\"] <= 98][data[\"Y\"] <= 30]\n"
     ]
    },
    {
     "name": "stdout",
     "output_type": "stream",
     "text": [
      "saved 1987_rain.csv\n",
      "reading ../data/raw_csv/rain_csv1988_rain.csv\n"
     ]
    },
    {
     "name": "stderr",
     "output_type": "stream",
     "text": [
      "/tmp/ipykernel_288/1601403735.py:5: UserWarning: Boolean Series key will be reindexed to match DataFrame index.\n",
      "  location_data = data[data[\"X\"] >= 89.75][data[\"Y\"] >= 21.75][data[\"X\"] <= 98][data[\"Y\"] <= 30]\n"
     ]
    },
    {
     "name": "stdout",
     "output_type": "stream",
     "text": [
      "saved 1988_rain.csv\n",
      "reading ../data/raw_csv/rain_csv1989_rain.csv\n"
     ]
    },
    {
     "name": "stderr",
     "output_type": "stream",
     "text": [
      "/tmp/ipykernel_288/1601403735.py:5: UserWarning: Boolean Series key will be reindexed to match DataFrame index.\n",
      "  location_data = data[data[\"X\"] >= 89.75][data[\"Y\"] >= 21.75][data[\"X\"] <= 98][data[\"Y\"] <= 30]\n"
     ]
    },
    {
     "name": "stdout",
     "output_type": "stream",
     "text": [
      "saved 1989_rain.csv\n",
      "reading ../data/raw_csv/rain_csv1990_rain.csv\n"
     ]
    },
    {
     "name": "stderr",
     "output_type": "stream",
     "text": [
      "/tmp/ipykernel_288/1601403735.py:5: UserWarning: Boolean Series key will be reindexed to match DataFrame index.\n",
      "  location_data = data[data[\"X\"] >= 89.75][data[\"Y\"] >= 21.75][data[\"X\"] <= 98][data[\"Y\"] <= 30]\n"
     ]
    },
    {
     "name": "stdout",
     "output_type": "stream",
     "text": [
      "saved 1990_rain.csv\n",
      "reading ../data/raw_csv/rain_csv1991_rain.csv\n"
     ]
    },
    {
     "name": "stderr",
     "output_type": "stream",
     "text": [
      "/tmp/ipykernel_288/1601403735.py:5: UserWarning: Boolean Series key will be reindexed to match DataFrame index.\n",
      "  location_data = data[data[\"X\"] >= 89.75][data[\"Y\"] >= 21.75][data[\"X\"] <= 98][data[\"Y\"] <= 30]\n"
     ]
    },
    {
     "name": "stdout",
     "output_type": "stream",
     "text": [
      "saved 1991_rain.csv\n",
      "reading ../data/raw_csv/rain_csv1992_rain.csv\n"
     ]
    },
    {
     "name": "stderr",
     "output_type": "stream",
     "text": [
      "/tmp/ipykernel_288/1601403735.py:5: UserWarning: Boolean Series key will be reindexed to match DataFrame index.\n",
      "  location_data = data[data[\"X\"] >= 89.75][data[\"Y\"] >= 21.75][data[\"X\"] <= 98][data[\"Y\"] <= 30]\n"
     ]
    },
    {
     "name": "stdout",
     "output_type": "stream",
     "text": [
      "saved 1992_rain.csv\n",
      "reading ../data/raw_csv/rain_csv1993_rain.csv\n"
     ]
    },
    {
     "name": "stderr",
     "output_type": "stream",
     "text": [
      "/tmp/ipykernel_288/1601403735.py:5: UserWarning: Boolean Series key will be reindexed to match DataFrame index.\n",
      "  location_data = data[data[\"X\"] >= 89.75][data[\"Y\"] >= 21.75][data[\"X\"] <= 98][data[\"Y\"] <= 30]\n"
     ]
    },
    {
     "name": "stdout",
     "output_type": "stream",
     "text": [
      "saved 1993_rain.csv\n",
      "reading ../data/raw_csv/rain_csv1994_rain.csv\n"
     ]
    },
    {
     "name": "stderr",
     "output_type": "stream",
     "text": [
      "/tmp/ipykernel_288/1601403735.py:5: UserWarning: Boolean Series key will be reindexed to match DataFrame index.\n",
      "  location_data = data[data[\"X\"] >= 89.75][data[\"Y\"] >= 21.75][data[\"X\"] <= 98][data[\"Y\"] <= 30]\n"
     ]
    },
    {
     "name": "stdout",
     "output_type": "stream",
     "text": [
      "saved 1994_rain.csv\n",
      "reading ../data/raw_csv/rain_csv1995_rain.csv\n"
     ]
    },
    {
     "name": "stderr",
     "output_type": "stream",
     "text": [
      "/tmp/ipykernel_288/1601403735.py:5: UserWarning: Boolean Series key will be reindexed to match DataFrame index.\n",
      "  location_data = data[data[\"X\"] >= 89.75][data[\"Y\"] >= 21.75][data[\"X\"] <= 98][data[\"Y\"] <= 30]\n"
     ]
    },
    {
     "name": "stdout",
     "output_type": "stream",
     "text": [
      "saved 1995_rain.csv\n",
      "reading ../data/raw_csv/rain_csv1996_rain.csv\n"
     ]
    },
    {
     "name": "stderr",
     "output_type": "stream",
     "text": [
      "/tmp/ipykernel_288/1601403735.py:5: UserWarning: Boolean Series key will be reindexed to match DataFrame index.\n",
      "  location_data = data[data[\"X\"] >= 89.75][data[\"Y\"] >= 21.75][data[\"X\"] <= 98][data[\"Y\"] <= 30]\n"
     ]
    },
    {
     "name": "stdout",
     "output_type": "stream",
     "text": [
      "saved 1996_rain.csv\n",
      "reading ../data/raw_csv/rain_csv1997_rain.csv\n"
     ]
    },
    {
     "name": "stderr",
     "output_type": "stream",
     "text": [
      "/tmp/ipykernel_288/1601403735.py:5: UserWarning: Boolean Series key will be reindexed to match DataFrame index.\n",
      "  location_data = data[data[\"X\"] >= 89.75][data[\"Y\"] >= 21.75][data[\"X\"] <= 98][data[\"Y\"] <= 30]\n"
     ]
    },
    {
     "name": "stdout",
     "output_type": "stream",
     "text": [
      "saved 1997_rain.csv\n",
      "reading ../data/raw_csv/rain_csv1998_rain.csv\n"
     ]
    },
    {
     "name": "stderr",
     "output_type": "stream",
     "text": [
      "/tmp/ipykernel_288/1601403735.py:5: UserWarning: Boolean Series key will be reindexed to match DataFrame index.\n",
      "  location_data = data[data[\"X\"] >= 89.75][data[\"Y\"] >= 21.75][data[\"X\"] <= 98][data[\"Y\"] <= 30]\n"
     ]
    },
    {
     "name": "stdout",
     "output_type": "stream",
     "text": [
      "saved 1998_rain.csv\n",
      "reading ../data/raw_csv/rain_csv1999_rain.csv\n"
     ]
    },
    {
     "name": "stderr",
     "output_type": "stream",
     "text": [
      "/tmp/ipykernel_288/1601403735.py:5: UserWarning: Boolean Series key will be reindexed to match DataFrame index.\n",
      "  location_data = data[data[\"X\"] >= 89.75][data[\"Y\"] >= 21.75][data[\"X\"] <= 98][data[\"Y\"] <= 30]\n"
     ]
    },
    {
     "name": "stdout",
     "output_type": "stream",
     "text": [
      "saved 1999_rain.csv\n",
      "reading ../data/raw_csv/rain_csv2000_rain.csv\n"
     ]
    },
    {
     "name": "stderr",
     "output_type": "stream",
     "text": [
      "/tmp/ipykernel_288/1601403735.py:5: UserWarning: Boolean Series key will be reindexed to match DataFrame index.\n",
      "  location_data = data[data[\"X\"] >= 89.75][data[\"Y\"] >= 21.75][data[\"X\"] <= 98][data[\"Y\"] <= 30]\n"
     ]
    },
    {
     "name": "stdout",
     "output_type": "stream",
     "text": [
      "saved 2000_rain.csv\n",
      "reading ../data/raw_csv/rain_csv2001_rain.csv\n"
     ]
    },
    {
     "name": "stderr",
     "output_type": "stream",
     "text": [
      "/tmp/ipykernel_288/1601403735.py:5: UserWarning: Boolean Series key will be reindexed to match DataFrame index.\n",
      "  location_data = data[data[\"X\"] >= 89.75][data[\"Y\"] >= 21.75][data[\"X\"] <= 98][data[\"Y\"] <= 30]\n"
     ]
    },
    {
     "name": "stdout",
     "output_type": "stream",
     "text": [
      "saved 2001_rain.csv\n",
      "reading ../data/raw_csv/rain_csv2002_rain.csv\n"
     ]
    },
    {
     "name": "stderr",
     "output_type": "stream",
     "text": [
      "/tmp/ipykernel_288/1601403735.py:5: UserWarning: Boolean Series key will be reindexed to match DataFrame index.\n",
      "  location_data = data[data[\"X\"] >= 89.75][data[\"Y\"] >= 21.75][data[\"X\"] <= 98][data[\"Y\"] <= 30]\n"
     ]
    },
    {
     "name": "stdout",
     "output_type": "stream",
     "text": [
      "saved 2002_rain.csv\n",
      "reading ../data/raw_csv/rain_csv2003_rain.csv\n"
     ]
    },
    {
     "name": "stderr",
     "output_type": "stream",
     "text": [
      "/tmp/ipykernel_288/1601403735.py:5: UserWarning: Boolean Series key will be reindexed to match DataFrame index.\n",
      "  location_data = data[data[\"X\"] >= 89.75][data[\"Y\"] >= 21.75][data[\"X\"] <= 98][data[\"Y\"] <= 30]\n"
     ]
    },
    {
     "name": "stdout",
     "output_type": "stream",
     "text": [
      "saved 2003_rain.csv\n",
      "reading ../data/raw_csv/rain_csv2004_rain.csv\n"
     ]
    },
    {
     "name": "stderr",
     "output_type": "stream",
     "text": [
      "/tmp/ipykernel_288/1601403735.py:5: UserWarning: Boolean Series key will be reindexed to match DataFrame index.\n",
      "  location_data = data[data[\"X\"] >= 89.75][data[\"Y\"] >= 21.75][data[\"X\"] <= 98][data[\"Y\"] <= 30]\n"
     ]
    },
    {
     "name": "stdout",
     "output_type": "stream",
     "text": [
      "saved 2004_rain.csv\n",
      "reading ../data/raw_csv/rain_csv2005_rain.csv\n"
     ]
    },
    {
     "name": "stderr",
     "output_type": "stream",
     "text": [
      "/tmp/ipykernel_288/1601403735.py:5: UserWarning: Boolean Series key will be reindexed to match DataFrame index.\n",
      "  location_data = data[data[\"X\"] >= 89.75][data[\"Y\"] >= 21.75][data[\"X\"] <= 98][data[\"Y\"] <= 30]\n"
     ]
    },
    {
     "name": "stdout",
     "output_type": "stream",
     "text": [
      "saved 2005_rain.csv\n",
      "reading ../data/raw_csv/rain_csv2006_rain.csv\n"
     ]
    },
    {
     "name": "stderr",
     "output_type": "stream",
     "text": [
      "/tmp/ipykernel_288/1601403735.py:5: UserWarning: Boolean Series key will be reindexed to match DataFrame index.\n",
      "  location_data = data[data[\"X\"] >= 89.75][data[\"Y\"] >= 21.75][data[\"X\"] <= 98][data[\"Y\"] <= 30]\n"
     ]
    },
    {
     "name": "stdout",
     "output_type": "stream",
     "text": [
      "saved 2006_rain.csv\n",
      "reading ../data/raw_csv/rain_csv2007_rain.csv\n"
     ]
    },
    {
     "name": "stderr",
     "output_type": "stream",
     "text": [
      "/tmp/ipykernel_288/1601403735.py:5: UserWarning: Boolean Series key will be reindexed to match DataFrame index.\n",
      "  location_data = data[data[\"X\"] >= 89.75][data[\"Y\"] >= 21.75][data[\"X\"] <= 98][data[\"Y\"] <= 30]\n"
     ]
    },
    {
     "name": "stdout",
     "output_type": "stream",
     "text": [
      "saved 2007_rain.csv\n",
      "reading ../data/raw_csv/rain_csv2008_rain.csv\n"
     ]
    },
    {
     "name": "stderr",
     "output_type": "stream",
     "text": [
      "/tmp/ipykernel_288/1601403735.py:5: UserWarning: Boolean Series key will be reindexed to match DataFrame index.\n",
      "  location_data = data[data[\"X\"] >= 89.75][data[\"Y\"] >= 21.75][data[\"X\"] <= 98][data[\"Y\"] <= 30]\n"
     ]
    },
    {
     "name": "stdout",
     "output_type": "stream",
     "text": [
      "saved 2008_rain.csv\n",
      "reading ../data/raw_csv/rain_csv2009_rain.csv\n"
     ]
    },
    {
     "name": "stderr",
     "output_type": "stream",
     "text": [
      "/tmp/ipykernel_288/1601403735.py:5: UserWarning: Boolean Series key will be reindexed to match DataFrame index.\n",
      "  location_data = data[data[\"X\"] >= 89.75][data[\"Y\"] >= 21.75][data[\"X\"] <= 98][data[\"Y\"] <= 30]\n"
     ]
    },
    {
     "name": "stdout",
     "output_type": "stream",
     "text": [
      "saved 2009_rain.csv\n",
      "reading ../data/raw_csv/rain_csv2010_rain.csv\n"
     ]
    },
    {
     "name": "stderr",
     "output_type": "stream",
     "text": [
      "/tmp/ipykernel_288/1601403735.py:5: UserWarning: Boolean Series key will be reindexed to match DataFrame index.\n",
      "  location_data = data[data[\"X\"] >= 89.75][data[\"Y\"] >= 21.75][data[\"X\"] <= 98][data[\"Y\"] <= 30]\n"
     ]
    },
    {
     "name": "stdout",
     "output_type": "stream",
     "text": [
      "saved 2010_rain.csv\n",
      "reading ../data/raw_csv/rain_csv2011_rain.csv\n"
     ]
    },
    {
     "name": "stderr",
     "output_type": "stream",
     "text": [
      "/tmp/ipykernel_288/1601403735.py:5: UserWarning: Boolean Series key will be reindexed to match DataFrame index.\n",
      "  location_data = data[data[\"X\"] >= 89.75][data[\"Y\"] >= 21.75][data[\"X\"] <= 98][data[\"Y\"] <= 30]\n"
     ]
    },
    {
     "name": "stdout",
     "output_type": "stream",
     "text": [
      "saved 2011_rain.csv\n",
      "reading ../data/raw_csv/rain_csv2012_rain.csv\n"
     ]
    },
    {
     "name": "stderr",
     "output_type": "stream",
     "text": [
      "/tmp/ipykernel_288/1601403735.py:5: UserWarning: Boolean Series key will be reindexed to match DataFrame index.\n",
      "  location_data = data[data[\"X\"] >= 89.75][data[\"Y\"] >= 21.75][data[\"X\"] <= 98][data[\"Y\"] <= 30]\n"
     ]
    },
    {
     "name": "stdout",
     "output_type": "stream",
     "text": [
      "saved 2012_rain.csv\n",
      "reading ../data/raw_csv/rain_csv2013_rain.csv\n"
     ]
    },
    {
     "name": "stderr",
     "output_type": "stream",
     "text": [
      "/tmp/ipykernel_288/1601403735.py:5: UserWarning: Boolean Series key will be reindexed to match DataFrame index.\n",
      "  location_data = data[data[\"X\"] >= 89.75][data[\"Y\"] >= 21.75][data[\"X\"] <= 98][data[\"Y\"] <= 30]\n"
     ]
    },
    {
     "name": "stdout",
     "output_type": "stream",
     "text": [
      "saved 2013_rain.csv\n",
      "reading ../data/raw_csv/rain_csv2014_rain.csv\n"
     ]
    },
    {
     "name": "stderr",
     "output_type": "stream",
     "text": [
      "/tmp/ipykernel_288/1601403735.py:5: UserWarning: Boolean Series key will be reindexed to match DataFrame index.\n",
      "  location_data = data[data[\"X\"] >= 89.75][data[\"Y\"] >= 21.75][data[\"X\"] <= 98][data[\"Y\"] <= 30]\n"
     ]
    },
    {
     "name": "stdout",
     "output_type": "stream",
     "text": [
      "saved 2014_rain.csv\n",
      "reading ../data/raw_csv/rain_csv2015_rain.csv\n"
     ]
    },
    {
     "name": "stderr",
     "output_type": "stream",
     "text": [
      "/tmp/ipykernel_288/1601403735.py:5: UserWarning: Boolean Series key will be reindexed to match DataFrame index.\n",
      "  location_data = data[data[\"X\"] >= 89.75][data[\"Y\"] >= 21.75][data[\"X\"] <= 98][data[\"Y\"] <= 30]\n"
     ]
    },
    {
     "name": "stdout",
     "output_type": "stream",
     "text": [
      "saved 2015_rain.csv\n",
      "reading ../data/raw_csv/rain_csv2016_rain.csv\n"
     ]
    },
    {
     "name": "stderr",
     "output_type": "stream",
     "text": [
      "/tmp/ipykernel_288/1601403735.py:5: UserWarning: Boolean Series key will be reindexed to match DataFrame index.\n",
      "  location_data = data[data[\"X\"] >= 89.75][data[\"Y\"] >= 21.75][data[\"X\"] <= 98][data[\"Y\"] <= 30]\n"
     ]
    },
    {
     "name": "stdout",
     "output_type": "stream",
     "text": [
      "saved 2016_rain.csv\n",
      "reading ../data/raw_csv/rain_csv2017_rain.csv\n"
     ]
    },
    {
     "name": "stderr",
     "output_type": "stream",
     "text": [
      "/tmp/ipykernel_288/1601403735.py:5: UserWarning: Boolean Series key will be reindexed to match DataFrame index.\n",
      "  location_data = data[data[\"X\"] >= 89.75][data[\"Y\"] >= 21.75][data[\"X\"] <= 98][data[\"Y\"] <= 30]\n"
     ]
    },
    {
     "name": "stdout",
     "output_type": "stream",
     "text": [
      "saved 2017_rain.csv\n",
      "reading ../data/raw_csv/rain_csv2018_rain.csv\n"
     ]
    },
    {
     "name": "stderr",
     "output_type": "stream",
     "text": [
      "/tmp/ipykernel_288/1601403735.py:5: UserWarning: Boolean Series key will be reindexed to match DataFrame index.\n",
      "  location_data = data[data[\"X\"] >= 89.75][data[\"Y\"] >= 21.75][data[\"X\"] <= 98][data[\"Y\"] <= 30]\n"
     ]
    },
    {
     "name": "stdout",
     "output_type": "stream",
     "text": [
      "saved 2018_rain.csv\n"
     ]
    }
   ],
   "source": [
    "def india_ne(files):\n",
    "    for fname in files:\n",
    "        print(f\"reading {fname}\")\n",
    "        data = pd.read_csv(fname)\n",
    "        location_data = data[data[\"X\"] >= 89.75][data[\"Y\"] >= 21.75][data[\"X\"] <= 98][data[\"Y\"] <= 30]\n",
    "        filtered_data = location_data[location_data[\"1\"] != -9999.0]\n",
    "        filtered_data.to_csv(f\"NE_csv/{fname[24:28]}_rain.csv\", index=False)\n",
    "        print(f\"saved {fname[24:28]}_rain.csv\")\n",
    "\n",
    "india_ne(files)"
   ],
   "metadata": {
    "collapsed": false
   }
  },
  {
   "cell_type": "code",
   "execution_count": null,
   "outputs": [],
   "source": [],
   "metadata": {
    "collapsed": false
   }
  }
 ],
 "metadata": {
  "kernelspec": {
   "display_name": "Python 3",
   "language": "python",
   "name": "python3"
  },
  "language_info": {
   "codemirror_mode": {
    "name": "ipython",
    "version": 2
   },
   "file_extension": ".py",
   "mimetype": "text/x-python",
   "name": "python",
   "nbconvert_exporter": "python",
   "pygments_lexer": "ipython2",
   "version": "2.7.6"
  }
 },
 "nbformat": 4,
 "nbformat_minor": 0
}
