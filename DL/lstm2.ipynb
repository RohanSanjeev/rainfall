{
 "cells": [
  {
   "cell_type": "code",
   "execution_count": 1,
   "metadata": {},
   "outputs": [],
   "source": [
    "import numpy as np\n",
    "import pandas as pd\n",
    "import random\n",
    "import tensorflow as tf\n",
    "from sklearn.preprocessing import MinMaxScaler\n",
    "from tensorflow.keras.models import Sequential\n",
    "from tensorflow.keras.layers import Dense, LSTM, Dropout\n",
    "import os\n",
    "import math\n",
    "import warnings\n",
    "from sklearn.metrics import mean_squared_error, mean_absolute_error\n",
    "from tensorflow.keras.metrics import RootMeanSquaredError, MeanAbsoluteError\n",
    "import matplotlib.pyplot as plt\n",
    "\n",
    "warnings.filterwarnings('ignore')\n",
    "random.seed(5)"
   ]
  },
  {
   "cell_type": "code",
   "execution_count": 2,
   "metadata": {},
   "outputs": [],
   "source": [
    "import keras_tuner"
   ]
  },
  {
   "cell_type": "code",
   "execution_count": 3,
   "metadata": {},
   "outputs": [],
   "source": [
    "def metrics(actual, predicted):\n",
    "    mse = mean_squared_error(actual, predicted)\n",
    "    print('MSE: '+str(mse))\n",
    "    mae = mean_absolute_error(actual, predicted)\n",
    "    print('MAE: '+str(mae))\n",
    "    rmse = math.sqrt(mse)\n",
    "    print('RMSE: '+str(rmse))\n",
    "    return mse, mae, rmse"
   ]
  },
  {
   "attachments": {},
   "cell_type": "markdown",
   "metadata": {},
   "source": [
    "### Daily Data"
   ]
  },
  {
   "cell_type": "code",
   "execution_count": 4,
   "metadata": {},
   "outputs": [
    {
     "data": {
      "text/plain": [
       "(        Date      Rain\n",
       " 0 1901-01-01  0.631025\n",
       " 1 1901-01-02  2.865568\n",
       " 2 1901-01-03  0.000000\n",
       " 3 1901-01-04  0.000000\n",
       " 4 1901-01-05  0.000000,\n",
       "             Date      Rain\n",
       " 43094 2018-12-27  0.000000\n",
       " 43095 2018-12-28  0.911493\n",
       " 43096 2018-12-29  0.000000\n",
       " 43097 2018-12-30  0.000000\n",
       " 43098 2018-12-31  0.000000)"
      ]
     },
     "execution_count": 4,
     "metadata": {},
     "output_type": "execute_result"
    }
   ],
   "source": [
    "dir = os.path.normpath(os.getcwd() + os.sep + os.pardir)+\"/Data/\"\n",
    "df = pd.read_csv(f\"{dir}guwahati.csv\")\n",
    "df.rename(columns={'date':'Date', 'rainfall':'Rain'}, inplace=True)\n",
    "df['Date'] =  pd.to_datetime(df['Date'], infer_datetime_format=True)\n",
    "\n",
    "df.head(), df.tail()"
   ]
  },
  {
   "cell_type": "code",
   "execution_count": 5,
   "metadata": {},
   "outputs": [
    {
     "name": "stdout",
     "output_type": "stream",
     "text": [
      "<class 'pandas.core.frame.DataFrame'>\n",
      "RangeIndex: 43099 entries, 0 to 43098\n",
      "Data columns (total 2 columns):\n",
      " #   Column  Non-Null Count  Dtype         \n",
      "---  ------  --------------  -----         \n",
      " 0   Date    43099 non-null  datetime64[ns]\n",
      " 1   Rain    43099 non-null  float64       \n",
      "dtypes: datetime64[ns](1), float64(1)\n",
      "memory usage: 673.5 KB\n"
     ]
    }
   ],
   "source": [
    "df.info()"
   ]
  },
  {
   "cell_type": "code",
   "execution_count": 6,
   "metadata": {},
   "outputs": [
    {
     "data": {
      "text/plain": [
       "34479"
      ]
     },
     "execution_count": 6,
     "metadata": {},
     "output_type": "execute_result"
    }
   ],
   "source": [
    "train_index = int(df.shape[0] * 0.8)\n",
    "train_index"
   ]
  },
  {
   "cell_type": "code",
   "execution_count": 7,
   "metadata": {},
   "outputs": [
    {
     "data": {
      "text/plain": [
       "((34479, 2), (8620, 2))"
      ]
     },
     "execution_count": 7,
     "metadata": {},
     "output_type": "execute_result"
    }
   ],
   "source": [
    "\n",
    "# split_index = df.loc[df['date'] == pd.to_datetime('2002-06-23', format='%Y-%m-%d')].index[0]\n",
    "# train_df, test_df = df[:split_index+1], df[split_index+1:]\n",
    "\n",
    "train_df, test_df = df[:train_index], df[train_index:]\n",
    "train_len = len(train_df)\n",
    "test_len = len(test_df)\n",
    "train_df.shape, test_df.shape"
   ]
  },
  {
   "cell_type": "code",
   "execution_count": 8,
   "metadata": {},
   "outputs": [
    {
     "data": {
      "image/png": "[encoded data removed]",
      "text/plain": [
       "<Figure size 1080x432 with 1 Axes>"
      ]
     },
     "metadata": {
      "needs_background": "light"
     },
     "output_type": "display_data"
    }
   ],
   "source": [
    "fig, ax = plt.subplots(figsize=(15,6))\n",
    "plt.plot(train_df['Date'], train_df['Rain'], linewidth=2, color='blue', label='Train data')\n",
    "plt.plot(test_df['Date'], test_df['Rain'], linewidth=2, color='green', label='Test data')\n",
    "# plt.vlines(x=pd.to_datetime('2002-06-23', format='%Y-%m-%d'), ymin=0, ymax=300 ,color = 'k', linestyle=':')\n",
    "plt.margins(x=0, y=0)\n",
    "plt.xlabel('Date')\n",
    "plt.ylabel('Rain')\n",
    "plt.legend()\n",
    "plt.show()"
   ]
  },
  {
   "cell_type": "code",
   "execution_count": 9,
   "metadata": {},
   "outputs": [
    {
     "data": {
      "image/png": "[encoded data removed]",
      "text/plain": [
       "<Figure size 1080x432 with 1 Axes>"
      ]
     },
     "metadata": {
      "needs_background": "light"
     },
     "output_type": "display_data"
    }
   ],
   "source": [
    "time_step = 7\n",
    "period = 1\n",
    "\n",
    "scaler = MinMaxScaler(feature_range=(0,1))\n",
    "train_data_scaled = scaler.fit_transform(train_df.drop('Date',axis=1))\n",
    "\n",
    "fig, ax = plt.subplots(figsize=(15,6))\n",
    "plt.plot( np.arange(train_index) ,train_data_scaled, linewidth=2, color='blue', label='Train data')\n",
    "plt.plot(np.arange(train_index, df.shape[0]) ,scaler.fit_transform(test_df.drop('Date',axis=1)), linewidth=2, color='green', label='Test data')\n",
    "\n",
    "# plt.vlines(x=pd.to_datetime('2002-06-23', format='%Y-%m-%d'), ymin=0, ymax=300 ,color = 'k', linestyle=':')\n",
    "plt.margins(x=0, y=0)\n",
    "plt.xlabel('Date')\n",
    "plt.ylabel('Rain')\n",
    "plt.legend()\n",
    "plt.show()\n"
   ]
  },
  {
   "cell_type": "code",
   "execution_count": 10,
   "metadata": {},
   "outputs": [],
   "source": [
    "\n",
    "X_train = []\n",
    "Y_train = []\n",
    "for i in range(time_step,train_len):\n",
    "    X_train.append(train_data_scaled[i-time_step:i,0])\n",
    "    Y_train.append(train_data_scaled[i:i+period,0])\n",
    "\n",
    "X_train, Y_train = np.array(X_train), np.array(Y_train)\n",
    "\n",
    "X_train = np.reshape(X_train, (X_train.shape[0],X_train.shape[1],1))\n",
    "\n",
    "inp = df.drop('Date',axis=1)\n",
    "inp = np.array(inp[(len(inp)-test_len-time_step):])\n",
    "\n",
    "inp = scaler.transform(inp)\n",
    "\n",
    "X_test = []\n",
    "\n",
    "for i in range(time_step,test_len+time_step):\n",
    "    X_test.append(inp[i-time_step:i,0])        \n",
    "X_test = np.array(X_test)\n",
    "\n",
    "X_test = np.reshape(X_test, (X_test.shape[0],X_test.shape[1],1))\n"
   ]
  },
  {
   "cell_type": "code",
   "execution_count": 11,
   "metadata": {},
   "outputs": [
    {
     "data": {
      "text/plain": [
       "(34472, 7, 1)"
      ]
     },
     "execution_count": 11,
     "metadata": {},
     "output_type": "execute_result"
    }
   ],
   "source": [
    "X_train.shape"
   ]
  },
  {
   "cell_type": "code",
   "execution_count": 12,
   "metadata": {},
   "outputs": [
    {
     "data": {
      "text/plain": [
       "(34472, 1)"
      ]
     },
     "execution_count": 12,
     "metadata": {},
     "output_type": "execute_result"
    }
   ],
   "source": [
    "Y_train.shape"
   ]
  },
  {
   "cell_type": "code",
   "execution_count": 13,
   "metadata": {},
   "outputs": [],
   "source": [
    "def build_model(hp):\n",
    "\n",
    "    period = 1\n",
    "    window_size = 7 \n",
    "    \n",
    "    \n",
    "    units = hp.Choice(\"units\", [32,64,512, 1024], ordered=None, default=None, parent_name=None, parent_values=None)\n",
    "    \n",
    "    model = Sequential()\n",
    "    \n",
    "    # hp.Choice('units', [512, 1024 ])\n",
    "\n",
    "    model.add(LSTM( units , input_shape=(window_size,1), return_sequences=True ))\n",
    "    model.add(Dropout(rate=0.1))\n",
    "\n",
    "    model.add(LSTM( units, return_sequences=True ))\n",
    "    model.add(Dropout(rate=0.1))\n",
    "\n",
    "    model.add(LSTM( units, return_sequences=True ))\n",
    "    model.add(Dropout(rate=0.1))\n",
    "\n",
    "    model.add(LSTM( units, return_sequences=False ))\n",
    "    model.add(Dropout(rate=0.1))\n",
    "\n",
    "    model.add(Dense(period, activation='linear'))\n",
    "\n",
    "    model.compile(optimizer='adam', loss='mean_squared_error', metrics=[\"accuracy\",RootMeanSquaredError(), MeanAbsoluteError()])\n",
    "\n",
    "    return model"
   ]
  },
  {
   "cell_type": "code",
   "execution_count": 14,
   "metadata": {},
   "outputs": [
    {
     "data": {
      "text/plain": [
       "(34472, 7, 1)"
      ]
     },
     "execution_count": 14,
     "metadata": {},
     "output_type": "execute_result"
    }
   ],
   "source": [
    "X_train.shape"
   ]
  },
  {
   "cell_type": "code",
   "execution_count": 15,
   "metadata": {},
   "outputs": [
    {
     "name": "stdout",
     "output_type": "stream",
     "text": [
      "Trial 2 Complete [00h 08m 18s]\n",
      "val_accuracy: 0.44025519490242004\n",
      "\n",
      "Best val_accuracy So Far: 0.44025519490242004\n",
      "Total elapsed time: 00h 16m 21s\n",
      "INFO:tensorflow:Oracle triggered exit\n"
     ]
    }
   ],
   "source": [
    "# tuner = keras_tuner.tuners.Hyperband(\n",
    "#     build_model,\n",
    "#     objective=\"val_accuracy\",\n",
    "#     max_epochs=30,\n",
    "#     hyperband_iterations=15,\n",
    "#     project_name=\"hyperband_tuner\"\n",
    "# )\n",
    "\n",
    "tuner = keras_tuner.tuners.BayesianOptimization(\n",
    "    build_model,\n",
    "    objective=\"val_accuracy\",\n",
    "    max_trials=4,\n",
    ")\n",
    "\n",
    "print(\"[INFO] Tuning hyperparameters\")\n",
    "\n",
    "print(tuner.search_space_summary())\n",
    "\n",
    "\n",
    "callbacks =[tf.keras.callbacks.EarlyStopping(monitor='val_accuracy', patience=4,verbose=1,mode='max'),\n",
    "tf.keras.callbacks.TensorBoard(\"/tmp/tb_logs\")]\n",
    "\n",
    "tuner.search(X_train, Y_train, workers=10, epochs=15, callbacks=[callbacks], validation_split=0.1)\n"
   ]
  },
  {
   "cell_type": "code",
   "execution_count": 16,
   "metadata": {},
   "outputs": [
    {
     "name": "stdout",
     "output_type": "stream",
     "text": [
      "[INFO] Printing best hyperparameters\n",
      "{'units': 32}\n",
      "[INFO] Printing summary \n",
      "Results summary\n",
      "Results in ./untitled_project\n",
      "Showing 10 best trials\n",
      "<keras_tuner.engine.objective.Objective object at 0x7fd12a0b8790>\n",
      "Trial summary\n",
      "Hyperparameters:\n",
      "units: 32\n",
      "Score: 0.44025519490242004\n",
      "Trial summary\n",
      "Hyperparameters:\n",
      "units: 64\n",
      "Score: 0.44025519490242004\n",
      "None\n"
     ]
    }
   ],
   "source": [
    "\n",
    "best_hyperparameters = tuner.get_best_hyperparameters(1)[0]\n",
    "\n",
    "best_model = tuner.get_best_models(1)[0]\n",
    "\n",
    "\n",
    "print(\"[INFO] Printing best hyperparameters\")\n",
    "print(best_hyperparameters.values)\n",
    "\n",
    "print(\"[INFO] Printing summary \")\n",
    "\n",
    "print(tuner.results_summary())"
   ]
  },
  {
   "cell_type": "code",
   "execution_count": 17,
   "metadata": {},
   "outputs": [
    {
     "name": "stderr",
     "output_type": "stream",
     "text": [
      "2022-12-20 19:09:57.792069: I tensorflow/core/grappler/optimizers/custom_graph_optimizer_registry.cc:113] Plugin optimizer for device_type GPU is enabled.\n",
      "2022-12-20 19:09:58.186415: I tensorflow/core/grappler/optimizers/custom_graph_optimizer_registry.cc:113] Plugin optimizer for device_type GPU is enabled.\n",
      "2022-12-20 19:09:58.280774: I tensorflow/core/grappler/optimizers/custom_graph_optimizer_registry.cc:113] Plugin optimizer for device_type GPU is enabled.\n",
      "2022-12-20 19:09:58.395949: I tensorflow/core/grappler/optimizers/custom_graph_optimizer_registry.cc:113] Plugin optimizer for device_type GPU is enabled.\n",
      "2022-12-20 19:09:58.500192: I tensorflow/core/grappler/optimizers/custom_graph_optimizer_registry.cc:113] Plugin optimizer for device_type GPU is enabled.\n"
     ]
    },
    {
     "name": "stdout",
     "output_type": "stream",
     "text": [
      "270/270 [==============================] - 11s 33ms/step\n"
     ]
    }
   ],
   "source": [
    "predictions = best_model.predict(X_test)\n",
    "predictions = scaler.inverse_transform(predictions)"
   ]
  },
  {
   "cell_type": "code",
   "execution_count": 18,
   "metadata": {},
   "outputs": [
    {
     "data": {
      "image/png": "[encoded data removed]",
      "text/plain": [
       "<Figure size 432x288 with 1 Axes>"
      ]
     },
     "metadata": {
      "needs_background": "light"
     },
     "output_type": "display_data"
    }
   ],
   "source": [
    "predict = pd.DataFrame(columns = ['Date','Rain', 'Prediction'])\n",
    "pred_data = test_df\n",
    "predict['Date'] = pred_data['Date'][0:len(predictions)]\n",
    "predict['Rain'] = pred_data['Rain'][0:len(predictions)]\n",
    "predict['Prediction'] = predictions[:,0]\n",
    "\n",
    "fig, ax = plt.subplots(figsize=(15,6))\n",
    "plt.plot(predict['Date'], predict['Rain'], label='Actual index', linewidth=2)\n",
    "plt.plot(predict['Date'], predict['Prediction'], label='Predicted index', color='red', linewidth=2)\n",
    "plt.legend()\n",
    "plt.margins(x=0)\n",
    "plt.xlabel('Date')\n",
    "plt.ylabel('Rain')\n",
    "\n",
    "plt.show()"
   ]
  },
  {
   "cell_type": "code",
   "execution_count": 19,
   "metadata": {},
   "outputs": [
    {
     "name": "stdout",
     "output_type": "stream",
     "text": [
      "MSE: 63.26087491221984\n",
      "MAE: 3.8974307522324634\n",
      "RMSE: 7.95367053078136\n"
     ]
    }
   ],
   "source": [
    "mse, mae, rmse = metrics(test_df['Rain'], predictions.reshape(test_df.shape[0]))"
   ]
  },
  {
   "attachments": {},
   "cell_type": "markdown",
   "metadata": {},
   "source": [
    "## Monthly Average Data"
   ]
  },
  {
   "cell_type": "code",
   "execution_count": 50,
   "metadata": {},
   "outputs": [],
   "source": [
    "# data_arr = np.load(f\"{dir}monthly_avg.npy\")\n",
    "# dates = pd.date_range(start='1901-01-01', end='2018-12-31', freq='m')\n",
    "# df = pd.DataFrame({'Date':dates, 'Rain':data_arr[10,:]})\n",
    "\n",
    "# df.sort_values(by=\"Date\", inplace=True)\n",
    "# split_index = df.loc[df['Date']==pd.to_datetime('2002-06-30', format='%Y-%m-%d')].index[0]\n",
    "# train_df, test_df = df[:split_index+1], df[split_index+1:]\n",
    "# train_len = len(train_df)\n",
    "# test_len = len(test_df)\n",
    "# train_df, test_df"
   ]
  },
  {
   "cell_type": "code",
   "execution_count": 51,
   "metadata": {},
   "outputs": [],
   "source": [
    "# fig, ax = plt.subplots(figsize=(15,6))\n",
    "# plt.plot(train_df['Date'], train_df['Rain'], linewidth=2, color='blue', label='Train data')\n",
    "# plt.plot(test_df['Date'], test_df['Rain'], linewidth=2, color='green', label='Test data')\n",
    "# plt.vlines(x=pd.to_datetime('2002-06-23', format='%Y-%m-%d'), ymin=0, ymax=50, color = 'k', linestyle=':')\n",
    "# plt.margins(x=0, y=0)\n",
    "# plt.xlabel('Date')\n",
    "# plt.ylabel('Rain')\n",
    "# plt.legend()\n",
    "# plt.show()"
   ]
  },
  {
   "cell_type": "code",
   "execution_count": 52,
   "metadata": {},
   "outputs": [],
   "source": [
    "# time_step = 1\n",
    "# period = 1\n",
    "\n",
    "# train_data_scaled = scaler.fit_transform(train_df.drop('Date',axis=1))\n",
    "\n",
    "# X_train = []\n",
    "# Y_train = []\n",
    "# for i in range(time_step,train_len):\n",
    "#     X_train.append(train_data_scaled[i-time_step:i,0])\n",
    "#     Y_train.append(train_data_scaled[i:i+period,0])\n",
    "\n",
    "# X_train, Y_train = np.array(X_train), np.array(Y_train)\n",
    "\n",
    "# X_train = np.reshape(X_train, (X_train.shape[0],X_train.shape[1],1))\n",
    "\n",
    "# inp = df.drop('Date',axis=1)\n",
    "# inp = np.array(inp[(len(inp)-test_len-time_step):])\n",
    "\n",
    "# inp = scaler.transform(inp)\n",
    "\n",
    "# X_test = []\n",
    "\n",
    "# for i in range(time_step,test_len+time_step):\n",
    "#     X_test.append(inp[i-time_step:i,0])        \n",
    "# X_test = np.array(X_test)\n",
    "\n",
    "# X_test = np.reshape(X_test, (X_test.shape[0],X_test.shape[1],1))"
   ]
  },
  {
   "cell_type": "code",
   "execution_count": 53,
   "metadata": {},
   "outputs": [],
   "source": [
    "# model = load_model(X_train)\n",
    "\n",
    "# model.compile(optimizer='adam', loss='mean_squared_error')\n",
    "# model.fit(X_train, Y_train, epochs=5, batch_size=150, verbose=1)\n",
    "# predictions = model.predict(X_test)\n",
    "# predictions = scaler.inverse_transform(predictions)"
   ]
  },
  {
   "cell_type": "code",
   "execution_count": 54,
   "metadata": {},
   "outputs": [],
   "source": [
    "# predict = pd.DataFrame(columns = ['Date','Rain', 'Prediction'])\n",
    "# pred_data = test_df\n",
    "# predict['Date'] = pred_data['Date'][0:len(predictions)]\n",
    "# predict['Rain'] = pred_data['Rain'][0:len(predictions)]\n",
    "# predict['Prediction'] = predictions[:,0]\n",
    "\n",
    "# plt.plot(predict['Date'], predict['Rain'], label='Actual index', linewidth=2)\n",
    "# plt.plot(predict['Date'], predict['Prediction'], label='Predicted index', color='red', linewidth=2)\n",
    "# plt.legend()\n",
    "# plt.margins(x=0)\n",
    "# plt.xlabel('Date')\n",
    "# plt.ylabel('Rain')\n",
    "\n",
    "# plt.show()"
   ]
  },
  {
   "cell_type": "code",
   "execution_count": 55,
   "metadata": {},
   "outputs": [],
   "source": [
    "# mse, mae, rmse = metrics(test_df['Rain'],predictions.reshape(test_df.shape[0]))"
   ]
  }
 ],
 "metadata": {
  "kernelspec": {
   "display_name": "rainfall",
   "language": "python",
   "name": "python3"
  },
  "language_info": {
   "codemirror_mode": {
    "name": "ipython",
    "version": 3
   },
   "file_extension": ".py",
   "mimetype": "text/x-python",
   "name": "python",
   "nbconvert_exporter": "python",
   "pygments_lexer": "ipython3",
   "version": "3.9.12 (main, Jun  1 2022, 06:36:29) \n[Clang 12.0.0 ]"
  },
  "orig_nbformat": 4,
  "vscode": {
   "interpreter": {
    "hash": "16bb2cf7550994fae5b97e906f77aaeb871610b68e10e52ae9a7ed5280d8ffa5"
   }
  }
 },
 "nbformat": 4,
 "nbformat_minor": 2
}
