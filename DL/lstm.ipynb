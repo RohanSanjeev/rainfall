{
 "cells": [
  {
   "cell_type": "code",
   "execution_count": 1,
   "metadata": {},
   "outputs": [],
   "source": [
    "import numpy as np\n",
    "import pandas as pd\n",
    "import random\n",
    "import tensorflow as tf\n",
    "from sklearn.preprocessing import MinMaxScaler\n",
    "from tensorflow.keras.models import Sequential\n",
    "from tensorflow.keras.layers import Dense, LSTM\n",
    "import os\n",
    "import math\n",
    "import warnings\n",
    "from sklearn.metrics import mean_squared_error, mean_absolute_error\n",
    "import matplotlib.pyplot as plt\n",
    "\n",
    "warnings.filterwarnings('ignore')\n",
    "random.seed(5)"
   ]
  },
  {
   "cell_type": "code",
   "execution_count": 2,
   "metadata": {},
   "outputs": [],
   "source": [
    "import keras_tuner"
   ]
  },
  {
   "cell_type": "code",
   "execution_count": 3,
   "metadata": {},
   "outputs": [],
   "source": [
    "def metrics(actual, predicted):\n",
    "    mse = mean_squared_error(actual, predicted)\n",
    "    print('MSE: '+str(mse))\n",
    "    mae = mean_absolute_error(actual, predicted)\n",
    "    print('MAE: '+str(mae))\n",
    "    rmse = math.sqrt(mse)\n",
    "    print('RMSE: '+str(rmse))\n",
    "    return mse, mae, rmse"
   ]
  },
  {
   "attachments": {},
   "cell_type": "markdown",
   "metadata": {},
   "source": [
    "### Daily Data"
   ]
  },
  {
   "cell_type": "code",
   "execution_count": 5,
   "metadata": {},
   "outputs": [
    {
     "data": {
      "text/plain": [
       "(        Date      Rain\n",
       " 0 1901-01-01  0.631025\n",
       " 1 1901-01-02  2.865568\n",
       " 2 1901-01-03  0.000000\n",
       " 3 1901-01-04  0.000000\n",
       " 4 1901-01-05  0.000000,\n",
       "             Date      Rain\n",
       " 43094 2018-12-27  0.000000\n",
       " 43095 2018-12-28  0.911493\n",
       " 43096 2018-12-29  0.000000\n",
       " 43097 2018-12-30  0.000000\n",
       " 43098 2018-12-31  0.000000)"
      ]
     },
     "execution_count": 5,
     "metadata": {},
     "output_type": "execute_result"
    }
   ],
   "source": [
    "dir = os.path.normpath(os.getcwd() + os.sep + os.pardir)+\"/Data/\"\n",
    "df = pd.read_csv(f\"{dir}guwahati.csv\")\n",
    "df.rename(columns={'date':'Date', 'rainfall':'Rain'}, inplace=True)\n",
    "df['Date'] =  pd.to_datetime(df['Date'], infer_datetime_format=True)\n",
    "\n",
    "df.head(), df.tail()"
   ]
  },
  {
   "cell_type": "code",
   "execution_count": 6,
   "metadata": {},
   "outputs": [
    {
     "name": "stdout",
     "output_type": "stream",
     "text": [
      "<class 'pandas.core.frame.DataFrame'>\n",
      "RangeIndex: 43099 entries, 0 to 43098\n",
      "Data columns (total 2 columns):\n",
      " #   Column  Non-Null Count  Dtype         \n",
      "---  ------  --------------  -----         \n",
      " 0   Date    43099 non-null  datetime64[ns]\n",
      " 1   Rain    43099 non-null  float64       \n",
      "dtypes: datetime64[ns](1), float64(1)\n",
      "memory usage: 673.5 KB\n"
     ]
    }
   ],
   "source": [
    "df.info()"
   ]
  },
  {
   "cell_type": "code",
   "execution_count": 7,
   "metadata": {},
   "outputs": [
    {
     "data": {
      "text/plain": [
       "34479"
      ]
     },
     "execution_count": 7,
     "metadata": {},
     "output_type": "execute_result"
    }
   ],
   "source": [
    "train_index = int(df.shape[0] * 0.8)\n",
    "train_index"
   ]
  },
  {
   "cell_type": "code",
   "execution_count": 8,
   "metadata": {},
   "outputs": [
    {
     "data": {
      "text/plain": [
       "((34479, 2), (8620, 2))"
      ]
     },
     "execution_count": 8,
     "metadata": {},
     "output_type": "execute_result"
    }
   ],
   "source": [
    "\n",
    "# split_index = df.loc[df['date'] == pd.to_datetime('2002-06-23', format='%Y-%m-%d')].index[0]\n",
    "# train_df, test_df = df[:split_index+1], df[split_index+1:]\n",
    "\n",
    "train_df, test_df = df[:train_index], df[train_index:]\n",
    "train_len = len(train_df)\n",
    "test_len = len(test_df)\n",
    "train_df.shape, test_df.shape"
   ]
  },
  {
   "cell_type": "code",
   "execution_count": 9,
   "metadata": {},
   "outputs": [
    {
     "data": {
      "image/png": "[encoded data removed]",
      "text/plain": [
       "<Figure size 1080x432 with 1 Axes>"
      ]
     },
     "metadata": {
      "needs_background": "light"
     },
     "output_type": "display_data"
    }
   ],
   "source": [
    "fig, ax = plt.subplots(figsize=(15,6))\n",
    "plt.plot(train_df['Date'], train_df['Rain'], linewidth=2, color='blue', label='Train data')\n",
    "plt.plot(test_df['Date'], test_df['Rain'], linewidth=2, color='green', label='Test data')\n",
    "# plt.vlines(x=pd.to_datetime('2002-06-23', format='%Y-%m-%d'), ymin=0, ymax=300 ,color = 'k', linestyle=':')\n",
    "plt.margins(x=0, y=0)\n",
    "plt.xlabel('Date')\n",
    "plt.ylabel('Rain')\n",
    "plt.legend()\n",
    "plt.show()"
   ]
  },
  {
   "cell_type": "code",
   "execution_count": 10,
   "metadata": {},
   "outputs": [
    {
     "data": {
      "image/png": "[encoded data removed]",
      "text/plain": [
       "<Figure size 1080x432 with 1 Axes>"
      ]
     },
     "metadata": {
      "needs_background": "light"
     },
     "output_type": "display_data"
    }
   ],
   "source": [
    "time_step = 7\n",
    "period = 1\n",
    "\n",
    "scaler = MinMaxScaler(feature_range=(0,1))\n",
    "train_data_scaled = scaler.fit_transform(train_df.drop('Date',axis=1))\n",
    "\n",
    "fig, ax = plt.subplots(figsize=(15,6))\n",
    "plt.plot( np.arange(train_index) ,train_data_scaled, linewidth=2, color='blue', label='Train data')\n",
    "plt.plot(np.arange(train_index, df.shape[0]) ,scaler.fit_transform(test_df.drop('Date',axis=1)), linewidth=2, color='green', label='Test data')\n",
    "\n",
    "# plt.vlines(x=pd.to_datetime('2002-06-23', format='%Y-%m-%d'), ymin=0, ymax=300 ,color = 'k', linestyle=':')\n",
    "plt.margins(x=0, y=0)\n",
    "plt.xlabel('Date')\n",
    "plt.ylabel('Rain')\n",
    "plt.legend()\n",
    "plt.show()\n"
   ]
  },
  {
   "cell_type": "code",
   "execution_count": 11,
   "metadata": {},
   "outputs": [],
   "source": [
    "\n",
    "X_train = []\n",
    "Y_train = []\n",
    "for i in range(time_step,train_len):\n",
    "    X_train.append(train_data_scaled[i-time_step:i,0])\n",
    "    Y_train.append(train_data_scaled[i:i+period,0])\n",
    "\n",
    "X_train, Y_train = np.array(X_train), np.array(Y_train)\n",
    "\n",
    "X_train = np.reshape(X_train, (X_train.shape[0],X_train.shape[1],1))\n",
    "\n",
    "inp = df.drop('Date',axis=1)\n",
    "inp = np.array(inp[(len(inp)-test_len-time_step):])\n",
    "\n",
    "inp = scaler.transform(inp)\n",
    "\n",
    "X_test = []\n",
    "\n",
    "for i in range(time_step,test_len+time_step):\n",
    "    X_test.append(inp[i-time_step:i,0])        \n",
    "X_test = np.array(X_test)\n",
    "\n",
    "X_test = np.reshape(X_test, (X_test.shape[0],X_test.shape[1],1))\n"
   ]
  },
  {
   "cell_type": "code",
   "execution_count": 12,
   "metadata": {},
   "outputs": [
    {
     "data": {
      "text/plain": [
       "(34472, 7, 1)"
      ]
     },
     "execution_count": 12,
     "metadata": {},
     "output_type": "execute_result"
    }
   ],
   "source": [
    "X_train.shape"
   ]
  },
  {
   "cell_type": "code",
   "execution_count": 13,
   "metadata": {},
   "outputs": [
    {
     "data": {
      "text/plain": [
       "(34472, 1)"
      ]
     },
     "execution_count": 13,
     "metadata": {},
     "output_type": "execute_result"
    }
   ],
   "source": [
    "Y_train.shape"
   ]
  },
  {
   "cell_type": "code",
   "execution_count": 14,
   "metadata": {},
   "outputs": [],
   "source": [
    "def build_model(hp):\n",
    "\n",
    "    period = 1\n",
    "    window_size = 7 \n",
    "\n",
    "    model = Sequential()\n",
    "    model.add(LSTM( hp.Choice('units', [32, 64 ]) , input_shape=(window_size,1)))\n",
    "    model.add(Dense(period, activation='linear'))\n",
    "\n",
    "    model.compile(optimizer='adam', loss='mean_squared_error')\n",
    "\n",
    "    return model"
   ]
  },
  {
   "cell_type": "code",
   "execution_count": 19,
   "metadata": {},
   "outputs": [
    {
     "name": "stdout",
     "output_type": "stream",
     "text": [
      "INFO:tensorflow:Reloading Oracle from existing project ./untitled_project/oracle.json\n",
      "[INFO] Tuning hyperparameters\n",
      "Search space summary\n",
      "Default search space size: 1\n",
      "units (Choice)\n",
      "{'default': 32, 'conditions': [], 'values': [32, 64], 'ordered': True}\n",
      "None\n",
      "\n",
      "Search: Running Trial #1\n",
      "\n",
      "Value             |Best Value So Far |Hyperparameter\n",
      "32                |?                 |units\n",
      "\n",
      "Epoch 1/30\n"
     ]
    },
    {
     "name": "stderr",
     "output_type": "stream",
     "text": [
      "2022-12-20 17:56:51.947732: I tensorflow/core/grappler/optimizers/custom_graph_optimizer_registry.cc:113] Plugin optimizer for device_type GPU is enabled.\n",
      "2022-12-20 17:56:52.441783: I tensorflow/core/grappler/optimizers/custom_graph_optimizer_registry.cc:113] Plugin optimizer for device_type GPU is enabled.\n",
      "2022-12-20 17:56:58.152395: I tensorflow/core/grappler/optimizers/custom_graph_optimizer_registry.cc:113] Plugin optimizer for device_type GPU is enabled.\n"
     ]
    },
    {
     "name": "stdout",
     "output_type": "stream",
     "text": [
      "970/970 [==============================] - ETA: 0s - loss: 0.0013"
     ]
    },
    {
     "name": "stderr",
     "output_type": "stream",
     "text": [
      "2022-12-20 17:57:28.692690: I tensorflow/core/grappler/optimizers/custom_graph_optimizer_registry.cc:113] Plugin optimizer for device_type GPU is enabled.\n",
      "2022-12-20 17:57:28.800036: I tensorflow/core/grappler/optimizers/custom_graph_optimizer_registry.cc:113] Plugin optimizer for device_type GPU is enabled.\n"
     ]
    },
    {
     "name": "stdout",
     "output_type": "stream",
     "text": [
      "WARNING:tensorflow:Early stopping conditioned on metric `accuracy` which is not available. Available metrics are: loss,val_loss\n",
      "970/970 [==============================] - 40s 30ms/step - loss: 0.0013 - val_loss: 0.0014\n",
      "Epoch 2/30\n",
      "970/970 [==============================] - ETA: 0s - loss: 0.0012WARNING:tensorflow:Early stopping conditioned on metric `accuracy` which is not available. Available metrics are: loss,val_loss\n",
      "970/970 [==============================] - 26s 27ms/step - loss: 0.0012 - val_loss: 0.0013\n",
      "Epoch 3/30\n",
      "969/970 [============================>.] - ETA: 0s - loss: 0.0012WARNING:tensorflow:Early stopping conditioned on metric `accuracy` which is not available. Available metrics are: loss,val_loss\n",
      "970/970 [==============================] - 27s 28ms/step - loss: 0.0012 - val_loss: 0.0013\n",
      "Epoch 4/30\n",
      "970/970 [==============================] - ETA: 0s - loss: 0.0012WARNING:tensorflow:Early stopping conditioned on metric `accuracy` which is not available. Available metrics are: loss,val_loss\n",
      "970/970 [==============================] - 30s 30ms/step - loss: 0.0012 - val_loss: 0.0013\n",
      "Epoch 5/30\n",
      "969/970 [============================>.] - ETA: 0s - loss: 0.0012WARNING:tensorflow:Early stopping conditioned on metric `accuracy` which is not available. Available metrics are: loss,val_loss\n",
      "970/970 [==============================] - 29s 29ms/step - loss: 0.0012 - val_loss: 0.0013\n",
      "Epoch 6/30\n",
      "969/970 [============================>.] - ETA: 0s - loss: 0.0012WARNING:tensorflow:Early stopping conditioned on metric `accuracy` which is not available. Available metrics are: loss,val_loss\n",
      "970/970 [==============================] - 29s 30ms/step - loss: 0.0012 - val_loss: 0.0013\n",
      "Epoch 7/30\n",
      "969/970 [============================>.] - ETA: 0s - loss: 0.0012WARNING:tensorflow:Early stopping conditioned on metric `accuracy` which is not available. Available metrics are: loss,val_loss\n",
      "970/970 [==============================] - 27s 28ms/step - loss: 0.0012 - val_loss: 0.0012\n",
      "Epoch 8/30\n",
      "969/970 [============================>.] - ETA: 0s - loss: 0.0012WARNING:tensorflow:Early stopping conditioned on metric `accuracy` which is not available. Available metrics are: loss,val_loss\n",
      "970/970 [==============================] - 27s 28ms/step - loss: 0.0012 - val_loss: 0.0012\n",
      "Epoch 9/30\n",
      "969/970 [============================>.] - ETA: 0s - loss: 0.0012WARNING:tensorflow:Early stopping conditioned on metric `accuracy` which is not available. Available metrics are: loss,val_loss\n",
      "970/970 [==============================] - 28s 29ms/step - loss: 0.0012 - val_loss: 0.0012\n",
      "Epoch 10/30\n",
      "969/970 [============================>.] - ETA: 0s - loss: 0.0012WARNING:tensorflow:Early stopping conditioned on metric `accuracy` which is not available. Available metrics are: loss,val_loss\n",
      "970/970 [==============================] - 29s 29ms/step - loss: 0.0012 - val_loss: 0.0012\n",
      "Epoch 11/30\n",
      "970/970 [==============================] - ETA: 0s - loss: 0.0012WARNING:tensorflow:Early stopping conditioned on metric `accuracy` which is not available. Available metrics are: loss,val_loss\n",
      "970/970 [==============================] - 28s 29ms/step - loss: 0.0012 - val_loss: 0.0012\n",
      "Epoch 12/30\n",
      "970/970 [==============================] - ETA: 0s - loss: 0.0012WARNING:tensorflow:Early stopping conditioned on metric `accuracy` which is not available. Available metrics are: loss,val_loss\n",
      "970/970 [==============================] - 28s 28ms/step - loss: 0.0012 - val_loss: 0.0013\n",
      "Epoch 13/30\n",
      "970/970 [==============================] - ETA: 0s - loss: 0.0012WARNING:tensorflow:Early stopping conditioned on metric `accuracy` which is not available. Available metrics are: loss,val_loss\n",
      "970/970 [==============================] - 27s 28ms/step - loss: 0.0012 - val_loss: 0.0013\n",
      "Epoch 14/30\n",
      "970/970 [==============================] - ETA: 0s - loss: 0.0012WARNING:tensorflow:Early stopping conditioned on metric `accuracy` which is not available. Available metrics are: loss,val_loss\n",
      "970/970 [==============================] - 27s 28ms/step - loss: 0.0012 - val_loss: 0.0012\n",
      "Epoch 15/30\n",
      "969/970 [============================>.] - ETA: 0s - loss: 0.0012WARNING:tensorflow:Early stopping conditioned on metric `accuracy` which is not available. Available metrics are: loss,val_loss\n",
      "970/970 [==============================] - 27s 28ms/step - loss: 0.0012 - val_loss: 0.0013\n",
      "Epoch 16/30\n",
      "969/970 [============================>.] - ETA: 0s - loss: 0.0012WARNING:tensorflow:Early stopping conditioned on metric `accuracy` which is not available. Available metrics are: loss,val_loss\n",
      "970/970 [==============================] - 28s 29ms/step - loss: 0.0012 - val_loss: 0.0012\n",
      "Epoch 17/30\n",
      "969/970 [============================>.] - ETA: 0s - loss: 0.0012WARNING:tensorflow:Early stopping conditioned on metric `accuracy` which is not available. Available metrics are: loss,val_loss\n",
      "970/970 [==============================] - 28s 28ms/step - loss: 0.0012 - val_loss: 0.0012\n",
      "Epoch 18/30\n",
      "969/970 [============================>.] - ETA: 0s - loss: 0.0012WARNING:tensorflow:Early stopping conditioned on metric `accuracy` which is not available. Available metrics are: loss,val_loss\n",
      "970/970 [==============================] - 28s 29ms/step - loss: 0.0012 - val_loss: 0.0012\n",
      "Epoch 19/30\n",
      "969/970 [============================>.] - ETA: 0s - loss: 0.0012WARNING:tensorflow:Early stopping conditioned on metric `accuracy` which is not available. Available metrics are: loss,val_loss\n",
      "970/970 [==============================] - 28s 29ms/step - loss: 0.0012 - val_loss: 0.0012\n",
      "Epoch 20/30\n",
      "970/970 [==============================] - ETA: 0s - loss: 0.0012WARNING:tensorflow:Early stopping conditioned on metric `accuracy` which is not available. Available metrics are: loss,val_loss\n",
      "970/970 [==============================] - 28s 29ms/step - loss: 0.0012 - val_loss: 0.0012\n",
      "Epoch 21/30\n",
      "969/970 [============================>.] - ETA: 0s - loss: 0.0012WARNING:tensorflow:Early stopping conditioned on metric `accuracy` which is not available. Available metrics are: loss,val_loss\n",
      "970/970 [==============================] - 28s 29ms/step - loss: 0.0012 - val_loss: 0.0012\n",
      "Epoch 22/30\n",
      "969/970 [============================>.] - ETA: 0s - loss: 0.0012WARNING:tensorflow:Early stopping conditioned on metric `accuracy` which is not available. Available metrics are: loss,val_loss\n",
      "970/970 [==============================] - 28s 29ms/step - loss: 0.0012 - val_loss: 0.0012\n",
      "Epoch 23/30\n",
      "969/970 [============================>.] - ETA: 0s - loss: 0.0012WARNING:tensorflow:Early stopping conditioned on metric `accuracy` which is not available. Available metrics are: loss,val_loss\n",
      "970/970 [==============================] - 28s 29ms/step - loss: 0.0012 - val_loss: 0.0012\n",
      "Epoch 24/30\n",
      "969/970 [============================>.] - ETA: 0s - loss: 0.0012WARNING:tensorflow:Early stopping conditioned on metric `accuracy` which is not available. Available metrics are: loss,val_loss\n",
      "970/970 [==============================] - 28s 29ms/step - loss: 0.0012 - val_loss: 0.0012\n",
      "Epoch 25/30\n",
      "969/970 [============================>.] - ETA: 0s - loss: 0.0012WARNING:tensorflow:Early stopping conditioned on metric `accuracy` which is not available. Available metrics are: loss,val_loss\n",
      "970/970 [==============================] - 27s 28ms/step - loss: 0.0012 - val_loss: 0.0012\n",
      "Epoch 26/30\n",
      "970/970 [==============================] - ETA: 0s - loss: 0.0012WARNING:tensorflow:Early stopping conditioned on metric `accuracy` which is not available. Available metrics are: loss,val_loss\n",
      "970/970 [==============================] - 27s 28ms/step - loss: 0.0012 - val_loss: 0.0012\n",
      "Epoch 27/30\n",
      "969/970 [============================>.] - ETA: 0s - loss: 0.0012WARNING:tensorflow:Early stopping conditioned on metric `accuracy` which is not available. Available metrics are: loss,val_loss\n",
      "970/970 [==============================] - 27s 28ms/step - loss: 0.0012 - val_loss: 0.0012\n",
      "Epoch 28/30\n",
      "969/970 [============================>.] - ETA: 0s - loss: 0.0012WARNING:tensorflow:Early stopping conditioned on metric `accuracy` which is not available. Available metrics are: loss,val_loss\n",
      "970/970 [==============================] - 27s 28ms/step - loss: 0.0012 - val_loss: 0.0012\n",
      "Epoch 29/30\n",
      "970/970 [==============================] - ETA: 0s - loss: 0.0012WARNING:tensorflow:Early stopping conditioned on metric `accuracy` which is not available. Available metrics are: loss,val_loss\n",
      "970/970 [==============================] - 28s 29ms/step - loss: 0.0012 - val_loss: 0.0012\n",
      "Epoch 30/30\n",
      "969/970 [============================>.] - ETA: 0s - loss: 0.0012WARNING:tensorflow:Early stopping conditioned on metric `accuracy` which is not available. Available metrics are: loss,val_loss\n",
      "970/970 [==============================] - 28s 29ms/step - loss: 0.0012 - val_loss: 0.0012\n"
     ]
    },
    {
     "ename": "KeyError",
     "evalue": "'val_accuracy'",
     "output_type": "error",
     "traceback": [
      "\u001b[0;31m---------------------------------------------------------------------------\u001b[0m",
      "\u001b[0;31mKeyError\u001b[0m                                  Traceback (most recent call last)",
      "\u001b[1;32m/Users/pranav/git/rainfall/DL/lstm.ipynb Cell 15\u001b[0m in \u001b[0;36m<cell line: 15>\u001b[0;34m()\u001b[0m\n\u001b[1;32m      <a href='vscode-notebook-cell:/Users/pranav/git/rainfall/DL/lstm.ipynb#Y113sZmlsZQ%3D%3D?line=8'>9</a>\u001b[0m \u001b[39mprint\u001b[39m(tuner\u001b[39m.\u001b[39msearch_space_summary())\n\u001b[1;32m     <a href='vscode-notebook-cell:/Users/pranav/git/rainfall/DL/lstm.ipynb#Y113sZmlsZQ%3D%3D?line=11'>12</a>\u001b[0m callbacks \u001b[39m=\u001b[39m[tf\u001b[39m.\u001b[39mkeras\u001b[39m.\u001b[39mcallbacks\u001b[39m.\u001b[39mEarlyStopping(monitor\u001b[39m=\u001b[39m\u001b[39m'\u001b[39m\u001b[39maccuracy\u001b[39m\u001b[39m'\u001b[39m, patience\u001b[39m=\u001b[39m\u001b[39m4\u001b[39m,verbose\u001b[39m=\u001b[39m\u001b[39m1\u001b[39m,mode\u001b[39m=\u001b[39m\u001b[39m'\u001b[39m\u001b[39mmax\u001b[39m\u001b[39m'\u001b[39m),\n\u001b[1;32m     <a href='vscode-notebook-cell:/Users/pranav/git/rainfall/DL/lstm.ipynb#Y113sZmlsZQ%3D%3D?line=12'>13</a>\u001b[0m tf\u001b[39m.\u001b[39mkeras\u001b[39m.\u001b[39mcallbacks\u001b[39m.\u001b[39mTensorBoard(\u001b[39m\"\u001b[39m\u001b[39m/tmp/tb_logs\u001b[39m\u001b[39m\"\u001b[39m)]\n\u001b[0;32m---> <a href='vscode-notebook-cell:/Users/pranav/git/rainfall/DL/lstm.ipynb#Y113sZmlsZQ%3D%3D?line=14'>15</a>\u001b[0m tuner\u001b[39m.\u001b[39;49msearch(X_train,Y_train, workers\u001b[39m=\u001b[39;49m\u001b[39m10\u001b[39;49m, epochs\u001b[39m=\u001b[39;49m\u001b[39m30\u001b[39;49m, callbacks\u001b[39m=\u001b[39;49m[callbacks], validation_split\u001b[39m=\u001b[39;49m\u001b[39m0.1\u001b[39;49m)\n\u001b[1;32m     <a href='vscode-notebook-cell:/Users/pranav/git/rainfall/DL/lstm.ipynb#Y113sZmlsZQ%3D%3D?line=16'>17</a>\u001b[0m best_hyperparameters \u001b[39m=\u001b[39m tuner\u001b[39m.\u001b[39mget_best_hyperparameters(\u001b[39m1\u001b[39m)[\u001b[39m0\u001b[39m]\n\u001b[1;32m     <a href='vscode-notebook-cell:/Users/pranav/git/rainfall/DL/lstm.ipynb#Y113sZmlsZQ%3D%3D?line=18'>19</a>\u001b[0m best_model \u001b[39m=\u001b[39m tuner\u001b[39m.\u001b[39mget_best_models(\u001b[39m1\u001b[39m)[\u001b[39m0\u001b[39m]\n",
      "File \u001b[0;32m~/miniforge3/envs/rainfall/lib/python3.9/site-packages/keras_tuner/engine/base_tuner.py:203\u001b[0m, in \u001b[0;36mBaseTuner.search\u001b[0;34m(self, *fit_args, **fit_kwargs)\u001b[0m\n\u001b[1;32m    195\u001b[0m     \u001b[39melse\u001b[39;00m:\n\u001b[1;32m    196\u001b[0m         tuner_utils\u001b[39m.\u001b[39mvalidate_trial_results(\n\u001b[1;32m    197\u001b[0m             results, \u001b[39mself\u001b[39m\u001b[39m.\u001b[39moracle\u001b[39m.\u001b[39mobjective, \u001b[39m\"\u001b[39m\u001b[39mTuner.run_trial()\u001b[39m\u001b[39m\"\u001b[39m\n\u001b[1;32m    198\u001b[0m         ),\n\u001b[1;32m    199\u001b[0m         \u001b[39mself\u001b[39m\u001b[39m.\u001b[39moracle\u001b[39m.\u001b[39mupdate_trial(\n\u001b[1;32m    200\u001b[0m             trial\u001b[39m.\u001b[39mtrial_id,\n\u001b[1;32m    201\u001b[0m             \u001b[39m# Convert to dictionary before calling `update_trial()`\u001b[39;00m\n\u001b[1;32m    202\u001b[0m             \u001b[39m# to pass it from gRPC.\u001b[39;00m\n\u001b[0;32m--> 203\u001b[0m             tuner_utils\u001b[39m.\u001b[39;49mconvert_to_metrics_dict(\n\u001b[1;32m    204\u001b[0m                 results,\n\u001b[1;32m    205\u001b[0m                 \u001b[39mself\u001b[39;49m\u001b[39m.\u001b[39;49moracle\u001b[39m.\u001b[39;49mobjective,\n\u001b[1;32m    206\u001b[0m             ),\n\u001b[1;32m    207\u001b[0m             step\u001b[39m=\u001b[39mtuner_utils\u001b[39m.\u001b[39mget_best_step(results, \u001b[39mself\u001b[39m\u001b[39m.\u001b[39moracle\u001b[39m.\u001b[39mobjective),\n\u001b[1;32m    208\u001b[0m         )\n\u001b[1;32m    209\u001b[0m     \u001b[39mself\u001b[39m\u001b[39m.\u001b[39mon_trial_end(trial)\n\u001b[1;32m    210\u001b[0m \u001b[39mself\u001b[39m\u001b[39m.\u001b[39mon_search_end()\n",
      "File \u001b[0;32m~/miniforge3/envs/rainfall/lib/python3.9/site-packages/keras_tuner/engine/tuner_utils.py:266\u001b[0m, in \u001b[0;36mconvert_to_metrics_dict\u001b[0;34m(results, objective)\u001b[0m\n\u001b[1;32m    262\u001b[0m \u001b[39m# List of multiple exectuion results to be averaged.\u001b[39;00m\n\u001b[1;32m    263\u001b[0m \u001b[39m# Check this case first to deal each case individually to check for errors.\u001b[39;00m\n\u001b[1;32m    264\u001b[0m \u001b[39mif\u001b[39;00m \u001b[39misinstance\u001b[39m(results, \u001b[39mlist\u001b[39m):\n\u001b[1;32m    265\u001b[0m     \u001b[39mreturn\u001b[39;00m average_metrics_dicts(\n\u001b[0;32m--> 266\u001b[0m         [convert_to_metrics_dict(elem, objective) \u001b[39mfor\u001b[39;00m elem \u001b[39min\u001b[39;00m results]\n\u001b[1;32m    267\u001b[0m     )\n\u001b[1;32m    269\u001b[0m \u001b[39m# Single value.\u001b[39;00m\n\u001b[1;32m    270\u001b[0m \u001b[39mif\u001b[39;00m \u001b[39misinstance\u001b[39m(results, (\u001b[39mint\u001b[39m, \u001b[39mfloat\u001b[39m, np\u001b[39m.\u001b[39mfloating)):\n",
      "File \u001b[0;32m~/miniforge3/envs/rainfall/lib/python3.9/site-packages/keras_tuner/engine/tuner_utils.py:266\u001b[0m, in \u001b[0;36m<listcomp>\u001b[0;34m(.0)\u001b[0m\n\u001b[1;32m    262\u001b[0m \u001b[39m# List of multiple exectuion results to be averaged.\u001b[39;00m\n\u001b[1;32m    263\u001b[0m \u001b[39m# Check this case first to deal each case individually to check for errors.\u001b[39;00m\n\u001b[1;32m    264\u001b[0m \u001b[39mif\u001b[39;00m \u001b[39misinstance\u001b[39m(results, \u001b[39mlist\u001b[39m):\n\u001b[1;32m    265\u001b[0m     \u001b[39mreturn\u001b[39;00m average_metrics_dicts(\n\u001b[0;32m--> 266\u001b[0m         [convert_to_metrics_dict(elem, objective) \u001b[39mfor\u001b[39;00m elem \u001b[39min\u001b[39;00m results]\n\u001b[1;32m    267\u001b[0m     )\n\u001b[1;32m    269\u001b[0m \u001b[39m# Single value.\u001b[39;00m\n\u001b[1;32m    270\u001b[0m \u001b[39mif\u001b[39;00m \u001b[39misinstance\u001b[39m(results, (\u001b[39mint\u001b[39m, \u001b[39mfloat\u001b[39m, np\u001b[39m.\u001b[39mfloating)):\n",
      "File \u001b[0;32m~/miniforge3/envs/rainfall/lib/python3.9/site-packages/keras_tuner/engine/tuner_utils.py:279\u001b[0m, in \u001b[0;36mconvert_to_metrics_dict\u001b[0;34m(results, objective)\u001b[0m\n\u001b[1;32m    277\u001b[0m \u001b[39m# A History.\u001b[39;00m\n\u001b[1;32m    278\u001b[0m \u001b[39mif\u001b[39;00m \u001b[39misinstance\u001b[39m(results, keras\u001b[39m.\u001b[39mcallbacks\u001b[39m.\u001b[39mHistory):\n\u001b[0;32m--> 279\u001b[0m     best_value, _ \u001b[39m=\u001b[39m _get_best_value_and_best_epoch_from_history(\n\u001b[1;32m    280\u001b[0m         results, objective\n\u001b[1;32m    281\u001b[0m     )\n\u001b[1;32m    282\u001b[0m     \u001b[39mreturn\u001b[39;00m best_value\n",
      "File \u001b[0;32m~/miniforge3/envs/rainfall/lib/python3.9/site-packages/keras_tuner/engine/tuner_utils.py:250\u001b[0m, in \u001b[0;36m_get_best_value_and_best_epoch_from_history\u001b[0;34m(history, objective)\u001b[0m\n\u001b[1;32m    248\u001b[0m best_epoch \u001b[39m=\u001b[39m \u001b[39m0\u001b[39m\n\u001b[1;32m    249\u001b[0m \u001b[39mfor\u001b[39;00m epoch, metrics \u001b[39min\u001b[39;00m epoch_metrics\u001b[39m.\u001b[39mitems():\n\u001b[0;32m--> 250\u001b[0m     objective_value \u001b[39m=\u001b[39m objective\u001b[39m.\u001b[39;49mget_value(metrics)\n\u001b[1;32m    251\u001b[0m     \u001b[39m# Support multi-objective.\u001b[39;00m\n\u001b[1;32m    252\u001b[0m     \u001b[39mif\u001b[39;00m objective\u001b[39m.\u001b[39mname \u001b[39mnot\u001b[39;00m \u001b[39min\u001b[39;00m metrics:\n",
      "File \u001b[0;32m~/miniforge3/envs/rainfall/lib/python3.9/site-packages/keras_tuner/engine/objective.py:55\u001b[0m, in \u001b[0;36mObjective.get_value\u001b[0;34m(self, logs)\u001b[0m\n\u001b[1;32m     44\u001b[0m \u001b[39mdef\u001b[39;00m \u001b[39mget_value\u001b[39m(\u001b[39mself\u001b[39m, logs):\n\u001b[1;32m     45\u001b[0m     \u001b[39m\"\"\"Get the objective value from the metrics logs.\u001b[39;00m\n\u001b[1;32m     46\u001b[0m \n\u001b[1;32m     47\u001b[0m \u001b[39m    Args:\u001b[39;00m\n\u001b[0;32m   (...)\u001b[0m\n\u001b[1;32m     53\u001b[0m \u001b[39m        The objective value.\u001b[39;00m\n\u001b[1;32m     54\u001b[0m \u001b[39m    \"\"\"\u001b[39;00m\n\u001b[0;32m---> 55\u001b[0m     \u001b[39mreturn\u001b[39;00m logs[\u001b[39mself\u001b[39;49m\u001b[39m.\u001b[39;49mname]\n",
      "\u001b[0;31mKeyError\u001b[0m: 'val_accuracy'"
     ]
    }
   ],
   "source": [
    "tuner = keras_tuner.tuners.BayesianOptimization(\n",
    "    build_model,\n",
    "    objective=\"val_accuracy\",\n",
    "    max_trials=4,\n",
    ")\n",
    "\n",
    "print(\"[INFO] Tuning hyperparameters\")\n",
    "\n",
    "print(tuner.search_space_summary())\n",
    "\n",
    "\n",
    "callbacks =[tf.keras.callbacks.EarlyStopping(monitor='val_accuracy', patience=4,verbose=1,mode='max'),\n",
    "tf.keras.callbacks.TensorBoard(\"/tmp/tb_logs\")]\n",
    "\n",
    "tuner.search(X_train,Y_train, workers=10, epochs=5, callbacks=[callbacks], validation_split=0.1)\n",
    "\n",
    "best_hyperparameters = tuner.get_best_hyperparameters(1)[0]\n",
    "\n",
    "best_model = tuner.get_best_models(1)[0]\n",
    "\n",
    "\n",
    "print(\"[INFO] Printing best hyperparameters\")\n",
    "print(best_hyperparameters.values)\n",
    "\n",
    "print(\"[INFO] Printing summary \")\n",
    "\n",
    "print(tuner.results_summary())"
   ]
  },
  {
   "cell_type": "code",
   "execution_count": null,
   "metadata": {},
   "outputs": [],
   "source": [
    "predictions = best_model.predict(X_test)\n",
    "predictions = scaler.inverse_transform(predictions)"
   ]
  },
  {
   "cell_type": "code",
   "execution_count": null,
   "metadata": {},
   "outputs": [
    {
     "data": {
      "image/png": "[encoded data removed]",
      "text/plain": [
       "<Figure size 432x288 with 1 Axes>"
      ]
     },
     "metadata": {
      "needs_background": "light"
     },
     "output_type": "display_data"
    }
   ],
   "source": [
    "predict = pd.DataFrame(columns = ['Date','Rain', 'Prediction'])\n",
    "pred_data = test_df\n",
    "predict['Date'] = pred_data['Date'][0:len(predictions)]\n",
    "predict['Rain'] = pred_data['Rain'][0:len(predictions)]\n",
    "predict['Prediction'] = predictions[:,0]\n",
    "\n",
    "plt.plot(predict['Date'], predict['Rain'], label='Actual index', linewidth=2)\n",
    "plt.plot(predict['Date'], predict['Prediction'], label='Predicted index', color='red', linewidth=2)\n",
    "plt.legend()\n",
    "plt.margins(x=0)\n",
    "plt.xlabel('Date')\n",
    "plt.ylabel('Rain')\n",
    "\n",
    "plt.show()"
   ]
  },
  {
   "cell_type": "code",
   "execution_count": null,
   "metadata": {},
   "outputs": [
    {
     "name": "stdout",
     "output_type": "stream",
     "text": [
      "MSE: 57.710407344168196\n",
      "MAE: 4.015938781149781\n",
      "RMSE: 7.596736624641412\n"
     ]
    }
   ],
   "source": [
    "mse, mae, rmse = metrics(test_df['Rain'], predictions.reshape(test_df.shape[0]))"
   ]
  },
  {
   "attachments": {},
   "cell_type": "markdown",
   "metadata": {},
   "source": [
    "## Monthly Average Data"
   ]
  },
  {
   "cell_type": "code",
   "execution_count": null,
   "metadata": {},
   "outputs": [],
   "source": [
    "# data_arr = np.load(f\"{dir}monthly_avg.npy\")\n",
    "# dates = pd.date_range(start='1901-01-01', end='2018-12-31', freq='m')\n",
    "# df = pd.DataFrame({'Date':dates, 'Rain':data_arr[10,:]})\n",
    "\n",
    "# df.sort_values(by=\"Date\", inplace=True)\n",
    "# split_index = df.loc[df['Date']==pd.to_datetime('2002-06-30', format='%Y-%m-%d')].index[0]\n",
    "# train_df, test_df = df[:split_index+1], df[split_index+1:]\n",
    "# train_len = len(train_df)\n",
    "# test_len = len(test_df)\n",
    "# train_df, test_df"
   ]
  },
  {
   "cell_type": "code",
   "execution_count": null,
   "metadata": {},
   "outputs": [],
   "source": [
    "# fig, ax = plt.subplots(figsize=(15,6))\n",
    "# plt.plot(train_df['Date'], train_df['Rain'], linewidth=2, color='blue', label='Train data')\n",
    "# plt.plot(test_df['Date'], test_df['Rain'], linewidth=2, color='green', label='Test data')\n",
    "# plt.vlines(x=pd.to_datetime('2002-06-23', format='%Y-%m-%d'), ymin=0, ymax=50, color = 'k', linestyle=':')\n",
    "# plt.margins(x=0, y=0)\n",
    "# plt.xlabel('Date')\n",
    "# plt.ylabel('Rain')\n",
    "# plt.legend()\n",
    "# plt.show()"
   ]
  },
  {
   "cell_type": "code",
   "execution_count": null,
   "metadata": {},
   "outputs": [],
   "source": [
    "# time_step = 1\n",
    "# period = 1\n",
    "\n",
    "# train_data_scaled = scaler.fit_transform(train_df.drop('Date',axis=1))\n",
    "\n",
    "# X_train = []\n",
    "# Y_train = []\n",
    "# for i in range(time_step,train_len):\n",
    "#     X_train.append(train_data_scaled[i-time_step:i,0])\n",
    "#     Y_train.append(train_data_scaled[i:i+period,0])\n",
    "\n",
    "# X_train, Y_train = np.array(X_train), np.array(Y_train)\n",
    "\n",
    "# X_train = np.reshape(X_train, (X_train.shape[0],X_train.shape[1],1))\n",
    "\n",
    "# inp = df.drop('Date',axis=1)\n",
    "# inp = np.array(inp[(len(inp)-test_len-time_step):])\n",
    "\n",
    "# inp = scaler.transform(inp)\n",
    "\n",
    "# X_test = []\n",
    "\n",
    "# for i in range(time_step,test_len+time_step):\n",
    "#     X_test.append(inp[i-time_step:i,0])        \n",
    "# X_test = np.array(X_test)\n",
    "\n",
    "# X_test = np.reshape(X_test, (X_test.shape[0],X_test.shape[1],1))"
   ]
  },
  {
   "cell_type": "code",
   "execution_count": null,
   "metadata": {},
   "outputs": [],
   "source": [
    "# model = load_model(X_train)\n",
    "\n",
    "# model.compile(optimizer='adam', loss='mean_squared_error')\n",
    "# model.fit(X_train, Y_train, epochs=5, batch_size=150, verbose=1)\n",
    "# predictions = model.predict(X_test)\n",
    "# predictions = scaler.inverse_transform(predictions)"
   ]
  },
  {
   "cell_type": "code",
   "execution_count": null,
   "metadata": {},
   "outputs": [],
   "source": [
    "# predict = pd.DataFrame(columns = ['Date','Rain', 'Prediction'])\n",
    "# pred_data = test_df\n",
    "# predict['Date'] = pred_data['Date'][0:len(predictions)]\n",
    "# predict['Rain'] = pred_data['Rain'][0:len(predictions)]\n",
    "# predict['Prediction'] = predictions[:,0]\n",
    "\n",
    "# plt.plot(predict['Date'], predict['Rain'], label='Actual index', linewidth=2)\n",
    "# plt.plot(predict['Date'], predict['Prediction'], label='Predicted index', color='red', linewidth=2)\n",
    "# plt.legend()\n",
    "# plt.margins(x=0)\n",
    "# plt.xlabel('Date')\n",
    "# plt.ylabel('Rain')\n",
    "\n",
    "# plt.show()"
   ]
  },
  {
   "cell_type": "code",
   "execution_count": null,
   "metadata": {},
   "outputs": [],
   "source": [
    "# mse, mae, rmse = metrics(test_df['Rain'],predictions.reshape(test_df.shape[0]))"
   ]
  }
 ],
 "metadata": {
  "kernelspec": {
   "display_name": "tf",
   "language": "python",
   "name": "python3"
  },
  "language_info": {
   "codemirror_mode": {
    "name": "ipython",
    "version": 3
   },
   "file_extension": ".py",
   "mimetype": "text/x-python",
   "name": "python",
   "nbconvert_exporter": "python",
   "pygments_lexer": "ipython3",
   "version": "3.9.12"
  },
  "orig_nbformat": 4,
  "vscode": {
   "interpreter": {
    "hash": "a99892a7141c01cf7e15ac41e161bc09a8ab59897b5ddbc04e576bb3744408a3"
   }
  }
 },
 "nbformat": 4,
 "nbformat_minor": 2
}
